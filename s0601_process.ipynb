{
 "cells": [
  {
   "cell_type": "code",
   "execution_count": 1,
   "metadata": {},
   "outputs": [],
   "source": [
    "import os\n",
    "import numpy as np\n",
    "import pandas as pd\n",
    "import geopandas as gpd\n",
    "from ld_script import *\n",
    "pd.set_option('display.max_colwidth', None)"
   ]
  },
  {
   "cell_type": "code",
   "execution_count": 2,
   "metadata": {},
   "outputs": [],
   "source": [
    "# path to the S0601 subject table\n",
    "data_dir = 'data/subject_tables/unzipped_files/ACSST5Y2019.S0601_2021-01-12T121040'"
   ]
  },
  {
   "cell_type": "code",
   "execution_count": 3,
   "metadata": {},
   "outputs": [],
   "source": [
    "# imports Sean's tract verification file\n",
    "tract_checker = pd.read_csv('data/tx_tract_fips.csv')"
   ]
  },
  {
   "cell_type": "code",
   "execution_count": 4,
   "metadata": {},
   "outputs": [],
   "source": [
    "S0601_data = pd.read_csv(os.path.join(data_dir, 'ACSST5Y2019.S0601_data_with_overlays_2021-01-12T121022.csv'), low_memory=False)\n",
    "S0601_metadata = pd.read_csv(os.path.join(data_dir, 'ACSST5Y2019.S0601_metadata_2021-01-12T121022.csv'))"
   ]
  },
  {
   "cell_type": "code",
   "execution_count": 5,
   "metadata": {},
   "outputs": [
    {
     "name": "stdout",
     "output_type": "stream",
     "text": [
      "Shape of data table proper is (5266, 426) \n",
      "Shape of metadata table is (425, 2)\n"
     ]
    }
   ],
   "source": [
    "print(f'Shape of data table proper is {S0601_data.shape} \\n'\n",
    "    + f'Shape of metadata table is {S0601_metadata.shape}')"
   ]
  },
  {
   "cell_type": "code",
   "execution_count": 6,
   "metadata": {},
   "outputs": [
    {
     "data": {
      "text/html": [
       "<div>\n",
       "<style scoped>\n",
       "    .dataframe tbody tr th:only-of-type {\n",
       "        vertical-align: middle;\n",
       "    }\n",
       "\n",
       "    .dataframe tbody tr th {\n",
       "        vertical-align: top;\n",
       "    }\n",
       "\n",
       "    .dataframe thead th {\n",
       "        text-align: right;\n",
       "    }\n",
       "</style>\n",
       "<table border=\"1\" class=\"dataframe\">\n",
       "  <thead>\n",
       "    <tr style=\"text-align: right;\">\n",
       "      <th></th>\n",
       "      <th>GEO_ID</th>\n",
       "      <th>NAME</th>\n",
       "      <th>S0601_C01_001E</th>\n",
       "      <th>S0601_C01_001M</th>\n",
       "      <th>S0601_C01_002E</th>\n",
       "      <th>S0601_C01_002M</th>\n",
       "      <th>S0601_C01_003E</th>\n",
       "      <th>S0601_C01_003M</th>\n",
       "      <th>S0601_C01_004E</th>\n",
       "      <th>S0601_C01_004M</th>\n",
       "      <th>...</th>\n",
       "      <th>S0601_C04_049E</th>\n",
       "      <th>S0601_C04_049M</th>\n",
       "      <th>S0601_C04_050E</th>\n",
       "      <th>S0601_C04_050M</th>\n",
       "      <th>S0601_C04_051E</th>\n",
       "      <th>S0601_C04_051M</th>\n",
       "      <th>S0601_C04_052E</th>\n",
       "      <th>S0601_C04_052M</th>\n",
       "      <th>S0601_C04_053E</th>\n",
       "      <th>S0601_C04_053M</th>\n",
       "    </tr>\n",
       "  </thead>\n",
       "  <tbody>\n",
       "    <tr>\n",
       "      <th>0</th>\n",
       "      <td>id</td>\n",
       "      <td>Geographic Area Name</td>\n",
       "      <td>Estimate!!Total!!Total population</td>\n",
       "      <td>Margin of Error!!Total!!Total population</td>\n",
       "      <td>Estimate!!Total!!Total population!!AGE!!Under 5 years</td>\n",
       "      <td>Margin of Error!!Total!!Total population!!AGE!!Under 5 years</td>\n",
       "      <td>Estimate!!Total!!Total population!!AGE!!5 to 17 years</td>\n",
       "      <td>Margin of Error!!Total!!Total population!!AGE!!5 to 17 years</td>\n",
       "      <td>Estimate!!Total!!Total population!!AGE!!18 to 24 years</td>\n",
       "      <td>Margin of Error!!Total!!Total population!!AGE!!18 to 24 years</td>\n",
       "      <td>...</td>\n",
       "      <td>Estimate!!Native; born outside U.S.!!POVERTY STATUS IN THE PAST 12 MONTHS!!Population for whom poverty status is determined!!Below 100 percent of the poverty level</td>\n",
       "      <td>Margin of Error!!Native; born outside U.S.!!POVERTY STATUS IN THE PAST 12 MONTHS!!Population for whom poverty status is determined!!Below 100 percent of the poverty level</td>\n",
       "      <td>Estimate!!Native; born outside U.S.!!POVERTY STATUS IN THE PAST 12 MONTHS!!Population for whom poverty status is determined!!100 to 149 percent of the poverty level</td>\n",
       "      <td>Margin of Error!!Native; born outside U.S.!!POVERTY STATUS IN THE PAST 12 MONTHS!!Population for whom poverty status is determined!!100 to 149 percent of the poverty level</td>\n",
       "      <td>Estimate!!Native; born outside U.S.!!POVERTY STATUS IN THE PAST 12 MONTHS!!Population for whom poverty status is determined!!At or above 150 percent of the poverty level</td>\n",
       "      <td>Margin of Error!!Native; born outside U.S.!!POVERTY STATUS IN THE PAST 12 MONTHS!!Population for whom poverty status is determined!!At or above 150 percent of the poverty level</td>\n",
       "      <td>Estimate!!Native; born outside U.S.!!PERCENT ALLOCATED!!Citizenship status</td>\n",
       "      <td>Margin of Error!!Native; born outside U.S.!!PERCENT ALLOCATED!!Citizenship status</td>\n",
       "      <td>Estimate!!Native; born outside U.S.!!PERCENT ALLOCATED!!Place of birth</td>\n",
       "      <td>Margin of Error!!Native; born outside U.S.!!PERCENT ALLOCATED!!Place of birth</td>\n",
       "    </tr>\n",
       "    <tr>\n",
       "      <th>1</th>\n",
       "      <td>1400000US48001950100</td>\n",
       "      <td>Census Tract 9501, Anderson County, Texas</td>\n",
       "      <td>4844</td>\n",
       "      <td>524</td>\n",
       "      <td>7.2</td>\n",
       "      <td>2.4</td>\n",
       "      <td>18.4</td>\n",
       "      <td>3.7</td>\n",
       "      <td>4.2</td>\n",
       "      <td>2.2</td>\n",
       "      <td>...</td>\n",
       "      <td>71.4</td>\n",
       "      <td>44.0</td>\n",
       "      <td>0.0</td>\n",
       "      <td>74.0</td>\n",
       "      <td>28.6</td>\n",
       "      <td>44.0</td>\n",
       "      <td>(X)</td>\n",
       "      <td>(X)</td>\n",
       "      <td>(X)</td>\n",
       "      <td>(X)</td>\n",
       "    </tr>\n",
       "  </tbody>\n",
       "</table>\n",
       "<p>2 rows × 426 columns</p>\n",
       "</div>"
      ],
      "text/plain": [
       "                 GEO_ID                                       NAME  \\\n",
       "0                    id                       Geographic Area Name   \n",
       "1  1400000US48001950100  Census Tract 9501, Anderson County, Texas   \n",
       "\n",
       "                      S0601_C01_001E  \\\n",
       "0  Estimate!!Total!!Total population   \n",
       "1                               4844   \n",
       "\n",
       "                             S0601_C01_001M  \\\n",
       "0  Margin of Error!!Total!!Total population   \n",
       "1                                       524   \n",
       "\n",
       "                                          S0601_C01_002E  \\\n",
       "0  Estimate!!Total!!Total population!!AGE!!Under 5 years   \n",
       "1                                                    7.2   \n",
       "\n",
       "                                                 S0601_C01_002M  \\\n",
       "0  Margin of Error!!Total!!Total population!!AGE!!Under 5 years   \n",
       "1                                                           2.4   \n",
       "\n",
       "                                          S0601_C01_003E  \\\n",
       "0  Estimate!!Total!!Total population!!AGE!!5 to 17 years   \n",
       "1                                                   18.4   \n",
       "\n",
       "                                                 S0601_C01_003M  \\\n",
       "0  Margin of Error!!Total!!Total population!!AGE!!5 to 17 years   \n",
       "1                                                           3.7   \n",
       "\n",
       "                                           S0601_C01_004E  \\\n",
       "0  Estimate!!Total!!Total population!!AGE!!18 to 24 years   \n",
       "1                                                     4.2   \n",
       "\n",
       "                                                  S0601_C01_004M  ...  \\\n",
       "0  Margin of Error!!Total!!Total population!!AGE!!18 to 24 years  ...   \n",
       "1                                                            2.2  ...   \n",
       "\n",
       "                                                                                                                                                        S0601_C04_049E  \\\n",
       "0  Estimate!!Native; born outside U.S.!!POVERTY STATUS IN THE PAST 12 MONTHS!!Population for whom poverty status is determined!!Below 100 percent of the poverty level   \n",
       "1                                                                                                                                                                 71.4   \n",
       "\n",
       "                                                                                                                                                               S0601_C04_049M  \\\n",
       "0  Margin of Error!!Native; born outside U.S.!!POVERTY STATUS IN THE PAST 12 MONTHS!!Population for whom poverty status is determined!!Below 100 percent of the poverty level   \n",
       "1                                                                                                                                                                        44.0   \n",
       "\n",
       "                                                                                                                                                         S0601_C04_050E  \\\n",
       "0  Estimate!!Native; born outside U.S.!!POVERTY STATUS IN THE PAST 12 MONTHS!!Population for whom poverty status is determined!!100 to 149 percent of the poverty level   \n",
       "1                                                                                                                                                                   0.0   \n",
       "\n",
       "                                                                                                                                                                S0601_C04_050M  \\\n",
       "0  Margin of Error!!Native; born outside U.S.!!POVERTY STATUS IN THE PAST 12 MONTHS!!Population for whom poverty status is determined!!100 to 149 percent of the poverty level   \n",
       "1                                                                                                                                                                         74.0   \n",
       "\n",
       "                                                                                                                                                              S0601_C04_051E  \\\n",
       "0  Estimate!!Native; born outside U.S.!!POVERTY STATUS IN THE PAST 12 MONTHS!!Population for whom poverty status is determined!!At or above 150 percent of the poverty level   \n",
       "1                                                                                                                                                                       28.6   \n",
       "\n",
       "                                                                                                                                                                     S0601_C04_051M  \\\n",
       "0  Margin of Error!!Native; born outside U.S.!!POVERTY STATUS IN THE PAST 12 MONTHS!!Population for whom poverty status is determined!!At or above 150 percent of the poverty level   \n",
       "1                                                                                                                                                                              44.0   \n",
       "\n",
       "                                                               S0601_C04_052E  \\\n",
       "0  Estimate!!Native; born outside U.S.!!PERCENT ALLOCATED!!Citizenship status   \n",
       "1                                                                         (X)   \n",
       "\n",
       "                                                                      S0601_C04_052M  \\\n",
       "0  Margin of Error!!Native; born outside U.S.!!PERCENT ALLOCATED!!Citizenship status   \n",
       "1                                                                                (X)   \n",
       "\n",
       "                                                           S0601_C04_053E  \\\n",
       "0  Estimate!!Native; born outside U.S.!!PERCENT ALLOCATED!!Place of birth   \n",
       "1                                                                     (X)   \n",
       "\n",
       "                                                                  S0601_C04_053M  \n",
       "0  Margin of Error!!Native; born outside U.S.!!PERCENT ALLOCATED!!Place of birth  \n",
       "1                                                                            (X)  \n",
       "\n",
       "[2 rows x 426 columns]"
      ]
     },
     "execution_count": 6,
     "metadata": {},
     "output_type": "execute_result"
    }
   ],
   "source": [
    "S0601_data.head(2)"
   ]
  },
  {
   "cell_type": "code",
   "execution_count": 7,
   "metadata": {},
   "outputs": [
    {
     "data": {
      "text/html": [
       "<div>\n",
       "<style scoped>\n",
       "    .dataframe tbody tr th:only-of-type {\n",
       "        vertical-align: middle;\n",
       "    }\n",
       "\n",
       "    .dataframe tbody tr th {\n",
       "        vertical-align: top;\n",
       "    }\n",
       "\n",
       "    .dataframe thead th {\n",
       "        text-align: right;\n",
       "    }\n",
       "</style>\n",
       "<table border=\"1\" class=\"dataframe\">\n",
       "  <thead>\n",
       "    <tr style=\"text-align: right;\">\n",
       "      <th></th>\n",
       "      <th>GEO_ID</th>\n",
       "      <th>id</th>\n",
       "    </tr>\n",
       "  </thead>\n",
       "  <tbody>\n",
       "    <tr>\n",
       "      <th>0</th>\n",
       "      <td>NAME</td>\n",
       "      <td>Geographic Area Name</td>\n",
       "    </tr>\n",
       "    <tr>\n",
       "      <th>1</th>\n",
       "      <td>S0601_C01_001E</td>\n",
       "      <td>Estimate!!Total!!Total population</td>\n",
       "    </tr>\n",
       "  </tbody>\n",
       "</table>\n",
       "</div>"
      ],
      "text/plain": [
       "           GEO_ID                                 id\n",
       "0            NAME               Geographic Area Name\n",
       "1  S0601_C01_001E  Estimate!!Total!!Total population"
      ]
     },
     "execution_count": 7,
     "metadata": {},
     "output_type": "execute_result"
    }
   ],
   "source": [
    "S0601_metadata.head(2)"
   ]
  },
  {
   "cell_type": "code",
   "execution_count": 8,
   "metadata": {},
   "outputs": [],
   "source": [
    "# Uses Sean's function to break apart GEOID into state(2) + county(3) + tract(6)\n",
    "S0601_data = parse_geo_id(S0601_data)"
   ]
  },
  {
   "cell_type": "code",
   "execution_count": 10,
   "metadata": {},
   "outputs": [
    {
     "data": {
      "text/plain": [
       "False"
      ]
     },
     "execution_count": 10,
     "metadata": {},
     "output_type": "execute_result"
    }
   ],
   "source": [
    "S0601_data.FIPS.sort_values().equals(tract_checker.GEOID.astype(str).sort_values())"
   ]
  },
  {
   "cell_type": "code",
   "execution_count": null,
   "metadata": {},
   "outputs": [],
   "source": []
  }
 ],
 "metadata": {
  "kernelspec": {
   "display_name": "Python 3",
   "language": "python",
   "name": "python3"
  },
  "language_info": {
   "codemirror_mode": {
    "name": "ipython",
    "version": 3
   },
   "file_extension": ".py",
   "mimetype": "text/x-python",
   "name": "python",
   "nbconvert_exporter": "python",
   "pygments_lexer": "ipython3",
   "version": "3.8.5"
  }
 },
 "nbformat": 4,
 "nbformat_minor": 4
}
