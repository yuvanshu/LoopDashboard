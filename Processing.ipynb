{
 "cells": [
  {
   "cell_type": "markdown",
   "metadata": {},
   "source": [
    "## Processing the Census Data By Subject Table at Texas Tract Level"
   ]
  },
  {
   "cell_type": "code",
   "execution_count": 1,
   "metadata": {},
   "outputs": [],
   "source": [
    "import os\n",
    "import pandas as pd"
   ]
  },
  {
   "cell_type": "markdown",
   "metadata": {},
   "source": [
    "### First table is S0101 - Age and Sex"
   ]
  },
  {
   "cell_type": "code",
   "execution_count": 2,
   "metadata": {},
   "outputs": [],
   "source": [
    "data_dir = 'data/subject_tables/unzipped_files/ACSST5Y2019.S0101_2021-01-12T120250'"
   ]
  },
  {
   "cell_type": "code",
   "execution_count": 3,
   "metadata": {},
   "outputs": [],
   "source": [
    "S0101_data = pd.read_csv(os.path.join(data_dir, 'ACSST5Y2019.S0101_data_with_overlays_2021-01-08T174020.csv'), low_memory=False)\n",
    "S0101_metadata = pd.read_csv(os.path.join(data_dir, 'ACSST5Y2019.S0101_metadata_2021-01-08T174020.csv'))"
   ]
  },
  {
   "cell_type": "code",
   "execution_count": 4,
   "metadata": {},
   "outputs": [
    {
     "name": "stdout",
     "output_type": "stream",
     "text": [
      "Shape of data table proper is (5266, 458) \n",
      "Shape of metadata table is (457, 2)\n"
     ]
    }
   ],
   "source": [
    "print(f'Shape of data table proper is {S0101_data.shape} \\n'\n",
    "    + f'Shape of metadata table is {S0101_metadata.shape}')"
   ]
  },
  {
   "cell_type": "code",
   "execution_count": 7,
   "metadata": {},
   "outputs": [
    {
     "data": {
      "text/html": [
       "<div>\n",
       "<style scoped>\n",
       "    .dataframe tbody tr th:only-of-type {\n",
       "        vertical-align: middle;\n",
       "    }\n",
       "\n",
       "    .dataframe tbody tr th {\n",
       "        vertical-align: top;\n",
       "    }\n",
       "\n",
       "    .dataframe thead th {\n",
       "        text-align: right;\n",
       "    }\n",
       "</style>\n",
       "<table border=\"1\" class=\"dataframe\">\n",
       "  <thead>\n",
       "    <tr style=\"text-align: right;\">\n",
       "      <th></th>\n",
       "      <th>GEO_ID</th>\n",
       "      <th>S0101_C01_001E</th>\n",
       "      <th>S0101_C01_001M</th>\n",
       "      <th>S0101_C01_002E</th>\n",
       "      <th>S0101_C01_002M</th>\n",
       "      <th>S0101_C01_003E</th>\n",
       "      <th>S0101_C01_003M</th>\n",
       "      <th>S0101_C01_004E</th>\n",
       "      <th>S0101_C01_004M</th>\n",
       "      <th>S0101_C01_005E</th>\n",
       "      <th>...</th>\n",
       "      <th>S0101_C06_034E</th>\n",
       "      <th>S0101_C06_034M</th>\n",
       "      <th>S0101_C06_035E</th>\n",
       "      <th>S0101_C06_035M</th>\n",
       "      <th>S0101_C06_036E</th>\n",
       "      <th>S0101_C06_036M</th>\n",
       "      <th>S0101_C06_037E</th>\n",
       "      <th>S0101_C06_037M</th>\n",
       "      <th>S0101_C06_038E</th>\n",
       "      <th>S0101_C06_038M</th>\n",
       "    </tr>\n",
       "  </thead>\n",
       "  <tbody>\n",
       "    <tr>\n",
       "      <th>0</th>\n",
       "      <td>id</td>\n",
       "      <td>Estimate!!Total!!Total population</td>\n",
       "      <td>Margin of Error!!Total!!Total population</td>\n",
       "      <td>Estimate!!Total!!Total population!!AGE!!Under ...</td>\n",
       "      <td>Margin of Error!!Total!!Total population!!AGE!...</td>\n",
       "      <td>Estimate!!Total!!Total population!!AGE!!5 to 9...</td>\n",
       "      <td>Margin of Error!!Total!!Total population!!AGE!...</td>\n",
       "      <td>Estimate!!Total!!Total population!!AGE!!10 to ...</td>\n",
       "      <td>Margin of Error!!Total!!Total population!!AGE!...</td>\n",
       "      <td>Estimate!!Total!!Total population!!AGE!!15 to ...</td>\n",
       "      <td>...</td>\n",
       "      <td>Estimate!!Percent Female!!Total population!!SU...</td>\n",
       "      <td>Margin of Error!!Percent Female!!Total populat...</td>\n",
       "      <td>Estimate!!Percent Female!!Total population!!SU...</td>\n",
       "      <td>Margin of Error!!Percent Female!!Total populat...</td>\n",
       "      <td>Estimate!!Percent Female!!Total population!!SU...</td>\n",
       "      <td>Margin of Error!!Percent Female!!Total populat...</td>\n",
       "      <td>Estimate!!Percent Female!!Total population!!PE...</td>\n",
       "      <td>Margin of Error!!Percent Female!!Total populat...</td>\n",
       "      <td>Estimate!!Percent Female!!Total population!!PE...</td>\n",
       "      <td>Margin of Error!!Percent Female!!Total populat...</td>\n",
       "    </tr>\n",
       "    <tr>\n",
       "      <th>1</th>\n",
       "      <td>1400000US48001950100</td>\n",
       "      <td>4844</td>\n",
       "      <td>524</td>\n",
       "      <td>349</td>\n",
       "      <td>131</td>\n",
       "      <td>269</td>\n",
       "      <td>119</td>\n",
       "      <td>372</td>\n",
       "      <td>137</td>\n",
       "      <td>291</td>\n",
       "      <td>...</td>\n",
       "      <td>(X)</td>\n",
       "      <td>(X)</td>\n",
       "      <td>(X)</td>\n",
       "      <td>(X)</td>\n",
       "      <td>(X)</td>\n",
       "      <td>(X)</td>\n",
       "      <td>(X)</td>\n",
       "      <td>(X)</td>\n",
       "      <td>(X)</td>\n",
       "      <td>(X)</td>\n",
       "    </tr>\n",
       "  </tbody>\n",
       "</table>\n",
       "<p>2 rows × 457 columns</p>\n",
       "</div>"
      ],
      "text/plain": [
       "                 GEO_ID                     S0101_C01_001E  \\\n",
       "0                    id  Estimate!!Total!!Total population   \n",
       "1  1400000US48001950100                               4844   \n",
       "\n",
       "                             S0101_C01_001M  \\\n",
       "0  Margin of Error!!Total!!Total population   \n",
       "1                                       524   \n",
       "\n",
       "                                      S0101_C01_002E  \\\n",
       "0  Estimate!!Total!!Total population!!AGE!!Under ...   \n",
       "1                                                349   \n",
       "\n",
       "                                      S0101_C01_002M  \\\n",
       "0  Margin of Error!!Total!!Total population!!AGE!...   \n",
       "1                                                131   \n",
       "\n",
       "                                      S0101_C01_003E  \\\n",
       "0  Estimate!!Total!!Total population!!AGE!!5 to 9...   \n",
       "1                                                269   \n",
       "\n",
       "                                      S0101_C01_003M  \\\n",
       "0  Margin of Error!!Total!!Total population!!AGE!...   \n",
       "1                                                119   \n",
       "\n",
       "                                      S0101_C01_004E  \\\n",
       "0  Estimate!!Total!!Total population!!AGE!!10 to ...   \n",
       "1                                                372   \n",
       "\n",
       "                                      S0101_C01_004M  \\\n",
       "0  Margin of Error!!Total!!Total population!!AGE!...   \n",
       "1                                                137   \n",
       "\n",
       "                                      S0101_C01_005E  ...  \\\n",
       "0  Estimate!!Total!!Total population!!AGE!!15 to ...  ...   \n",
       "1                                                291  ...   \n",
       "\n",
       "                                      S0101_C06_034E  \\\n",
       "0  Estimate!!Percent Female!!Total population!!SU...   \n",
       "1                                                (X)   \n",
       "\n",
       "                                      S0101_C06_034M  \\\n",
       "0  Margin of Error!!Percent Female!!Total populat...   \n",
       "1                                                (X)   \n",
       "\n",
       "                                      S0101_C06_035E  \\\n",
       "0  Estimate!!Percent Female!!Total population!!SU...   \n",
       "1                                                (X)   \n",
       "\n",
       "                                      S0101_C06_035M  \\\n",
       "0  Margin of Error!!Percent Female!!Total populat...   \n",
       "1                                                (X)   \n",
       "\n",
       "                                      S0101_C06_036E  \\\n",
       "0  Estimate!!Percent Female!!Total population!!SU...   \n",
       "1                                                (X)   \n",
       "\n",
       "                                      S0101_C06_036M  \\\n",
       "0  Margin of Error!!Percent Female!!Total populat...   \n",
       "1                                                (X)   \n",
       "\n",
       "                                      S0101_C06_037E  \\\n",
       "0  Estimate!!Percent Female!!Total population!!PE...   \n",
       "1                                                (X)   \n",
       "\n",
       "                                      S0101_C06_037M  \\\n",
       "0  Margin of Error!!Percent Female!!Total populat...   \n",
       "1                                                (X)   \n",
       "\n",
       "                                      S0101_C06_038E  \\\n",
       "0  Estimate!!Percent Female!!Total population!!PE...   \n",
       "1                                                (X)   \n",
       "\n",
       "                                      S0101_C06_038M  \n",
       "0  Margin of Error!!Percent Female!!Total populat...  \n",
       "1                                                (X)  \n",
       "\n",
       "[2 rows x 457 columns]"
      ]
     },
     "execution_count": 7,
     "metadata": {},
     "output_type": "execute_result"
    }
   ],
   "source": [
    "S0101_data.head(2)"
   ]
  },
  {
   "cell_type": "markdown",
   "metadata": {},
   "source": [
    "The name column is pretty irrelevant to our purposes and we can drop it so there there is an exact correspondence between\n",
    "our columns in the data table and the rows in the metadata table."
   ]
  },
  {
   "cell_type": "code",
   "execution_count": 6,
   "metadata": {},
   "outputs": [],
   "source": [
    "S0101_data.drop(columns=['NAME'], inplace=True)\n",
    "assert (S0101_data.shape[1] == S0101_metadata.shape[0]), print('mismatch in metadata and data correspondence')"
   ]
  },
  {
   "cell_type": "code",
   "execution_count": 24,
   "metadata": {},
   "outputs": [],
   "source": [
    "int_locations = [2, *(list(range(14,28,2))), 42, 46, 56, 230, 306] \n",
    "int_locations = [x-1 for x in int_locations]"
   ]
  },
  {
   "cell_type": "code",
   "execution_count": 25,
   "metadata": {},
   "outputs": [
    {
     "data": {
      "text/html": [
       "<div>\n",
       "<style scoped>\n",
       "    .dataframe tbody tr th:only-of-type {\n",
       "        vertical-align: middle;\n",
       "    }\n",
       "\n",
       "    .dataframe tbody tr th {\n",
       "        vertical-align: top;\n",
       "    }\n",
       "\n",
       "    .dataframe thead th {\n",
       "        text-align: right;\n",
       "    }\n",
       "</style>\n",
       "<table border=\"1\" class=\"dataframe\">\n",
       "  <thead>\n",
       "    <tr style=\"text-align: right;\">\n",
       "      <th></th>\n",
       "      <th>GEO_ID</th>\n",
       "      <th>id</th>\n",
       "    </tr>\n",
       "  </thead>\n",
       "  <tbody>\n",
       "    <tr>\n",
       "      <th>1</th>\n",
       "      <td>S0101_C01_001E</td>\n",
       "      <td>Estimate!!Total!!Total population</td>\n",
       "    </tr>\n",
       "    <tr>\n",
       "      <th>13</th>\n",
       "      <td>S0101_C01_007E</td>\n",
       "      <td>Estimate!!Total!!Total population!!AGE!!25 to ...</td>\n",
       "    </tr>\n",
       "    <tr>\n",
       "      <th>15</th>\n",
       "      <td>S0101_C01_008E</td>\n",
       "      <td>Estimate!!Total!!Total population!!AGE!!30 to ...</td>\n",
       "    </tr>\n",
       "    <tr>\n",
       "      <th>17</th>\n",
       "      <td>S0101_C01_009E</td>\n",
       "      <td>Estimate!!Total!!Total population!!AGE!!35 to ...</td>\n",
       "    </tr>\n",
       "    <tr>\n",
       "      <th>19</th>\n",
       "      <td>S0101_C01_010E</td>\n",
       "      <td>Estimate!!Total!!Total population!!AGE!!40 to ...</td>\n",
       "    </tr>\n",
       "    <tr>\n",
       "      <th>21</th>\n",
       "      <td>S0101_C01_011E</td>\n",
       "      <td>Estimate!!Total!!Total population!!AGE!!45 to ...</td>\n",
       "    </tr>\n",
       "    <tr>\n",
       "      <th>23</th>\n",
       "      <td>S0101_C01_012E</td>\n",
       "      <td>Estimate!!Total!!Total population!!AGE!!50 to ...</td>\n",
       "    </tr>\n",
       "    <tr>\n",
       "      <th>25</th>\n",
       "      <td>S0101_C01_013E</td>\n",
       "      <td>Estimate!!Total!!Total population!!AGE!!55 to ...</td>\n",
       "    </tr>\n",
       "    <tr>\n",
       "      <th>41</th>\n",
       "      <td>S0101_C01_021E</td>\n",
       "      <td>Estimate!!Total!!Total population!!SELECTED AG...</td>\n",
       "    </tr>\n",
       "    <tr>\n",
       "      <th>45</th>\n",
       "      <td>S0101_C01_023E</td>\n",
       "      <td>Estimate!!Total!!Total population!!SELECTED AG...</td>\n",
       "    </tr>\n",
       "    <tr>\n",
       "      <th>55</th>\n",
       "      <td>S0101_C01_028E</td>\n",
       "      <td>Estimate!!Total!!Total population!!SELECTED AG...</td>\n",
       "    </tr>\n",
       "    <tr>\n",
       "      <th>229</th>\n",
       "      <td>S0101_C04_001E</td>\n",
       "      <td>Estimate!!Percent Male!!Total population</td>\n",
       "    </tr>\n",
       "    <tr>\n",
       "      <th>305</th>\n",
       "      <td>S0101_C05_001E</td>\n",
       "      <td>Estimate!!Female!!Total population</td>\n",
       "    </tr>\n",
       "  </tbody>\n",
       "</table>\n",
       "</div>"
      ],
      "text/plain": [
       "             GEO_ID                                                 id\n",
       "1    S0101_C01_001E                  Estimate!!Total!!Total population\n",
       "13   S0101_C01_007E  Estimate!!Total!!Total population!!AGE!!25 to ...\n",
       "15   S0101_C01_008E  Estimate!!Total!!Total population!!AGE!!30 to ...\n",
       "17   S0101_C01_009E  Estimate!!Total!!Total population!!AGE!!35 to ...\n",
       "19   S0101_C01_010E  Estimate!!Total!!Total population!!AGE!!40 to ...\n",
       "21   S0101_C01_011E  Estimate!!Total!!Total population!!AGE!!45 to ...\n",
       "23   S0101_C01_012E  Estimate!!Total!!Total population!!AGE!!50 to ...\n",
       "25   S0101_C01_013E  Estimate!!Total!!Total population!!AGE!!55 to ...\n",
       "41   S0101_C01_021E  Estimate!!Total!!Total population!!SELECTED AG...\n",
       "45   S0101_C01_023E  Estimate!!Total!!Total population!!SELECTED AG...\n",
       "55   S0101_C01_028E  Estimate!!Total!!Total population!!SELECTED AG...\n",
       "229  S0101_C04_001E           Estimate!!Percent Male!!Total population\n",
       "305  S0101_C05_001E                 Estimate!!Female!!Total population"
      ]
     },
     "execution_count": 25,
     "metadata": {},
     "output_type": "execute_result"
    }
   ],
   "source": [
    "S0101_metadata.iloc[int_locations]"
   ]
  },
  {
   "cell_type": "code",
   "execution_count": 28,
   "metadata": {},
   "outputs": [],
   "source": [
    "wanted_columns = S0101_metadata.GEO_ID"
   ]
  },
  {
   "cell_type": "code",
   "execution_count": 30,
   "metadata": {},
   "outputs": [
    {
     "data": {
      "text/plain": [
       "0                NAME\n",
       "1      S0101_C01_001E\n",
       "2      S0101_C01_001M\n",
       "3      S0101_C01_002E\n",
       "4      S0101_C01_002M\n",
       "            ...      \n",
       "452    S0101_C06_036M\n",
       "453    S0101_C06_037E\n",
       "454    S0101_C06_037M\n",
       "455    S0101_C06_038E\n",
       "456    S0101_C06_038M\n",
       "Name: GEO_ID, Length: 457, dtype: object"
      ]
     },
     "execution_count": 30,
     "metadata": {},
     "output_type": "execute_result"
    }
   ],
   "source": [
    "wanted_co"
   ]
  },
  {
   "cell_type": "code",
   "execution_count": 29,
   "metadata": {},
   "outputs": [
    {
     "ename": "KeyError",
     "evalue": "\"None of [Index([('NAME', 'S0101_C01_001E', 'S0101_C01_001M', 'S0101_C01_002E', 'S0101_C01_002M', 'S0101_C01_003E', 'S0101_C01_003M', 'S0101_C01_004E', 'S0101_C01_004M', 'S0101_C01_005E', 'S0101_C01_005M', 'S0101_C01_006E', 'S0101_C01_006M', 'S0101_C01_007E', 'S0101_C01_007M', 'S0101_C01_008E', 'S0101_C01_008M', 'S0101_C01_009E', 'S0101_C01_009M', 'S0101_C01_010E', 'S0101_C01_010M', 'S0101_C01_011E', 'S0101_C01_011M', 'S0101_C01_012E', 'S0101_C01_012M', 'S0101_C01_013E', 'S0101_C01_013M', 'S0101_C01_014E', 'S0101_C01_014M', 'S0101_C01_015E', 'S0101_C01_015M', 'S0101_C01_016E', 'S0101_C01_016M', 'S0101_C01_017E', 'S0101_C01_017M', 'S0101_C01_018E', 'S0101_C01_018M', 'S0101_C01_019E', 'S0101_C01_019M', 'S0101_C01_020E', 'S0101_C01_020M', 'S0101_C01_021E', 'S0101_C01_021M', 'S0101_C01_022E', 'S0101_C01_022M', 'S0101_C01_023E', 'S0101_C01_023M', 'S0101_C01_024E', 'S0101_C01_024M', 'S0101_C01_025E', 'S0101_C01_025M', 'S0101_C01_026E', 'S0101_C01_026M', 'S0101_C01_027E', 'S0101_C01_027M', 'S0101_C01_028E', 'S0101_C01_028M', 'S0101_C01_029E', 'S0101_C01_029M', 'S0101_C01_030E', 'S0101_C01_030M', 'S0101_C01_031E', 'S0101_C01_031M', 'S0101_C01_032E', 'S0101_C01_032M', 'S0101_C01_033E', 'S0101_C01_033M', 'S0101_C01_034E', 'S0101_C01_034M', 'S0101_C01_035E', 'S0101_C01_035M', 'S0101_C01_036E', 'S0101_C01_036M', 'S0101_C01_037E', 'S0101_C01_037M', 'S0101_C01_038E', 'S0101_C01_038M', 'S0101_C02_001E', 'S0101_C02_001M', 'S0101_C02_002E', 'S0101_C02_002M', 'S0101_C02_003E', 'S0101_C02_003M', 'S0101_C02_004E', 'S0101_C02_004M', 'S0101_C02_005E', 'S0101_C02_005M', 'S0101_C02_006E', 'S0101_C02_006M', 'S0101_C02_007E', 'S0101_C02_007M', 'S0101_C02_008E', 'S0101_C02_008M', 'S0101_C02_009E', 'S0101_C02_009M', 'S0101_C02_010E', 'S0101_C02_010M', 'S0101_C02_011E', 'S0101_C02_011M', 'S0101_C02_012E', ...)], dtype='object')] are in the [columns]\"",
     "output_type": "error",
     "traceback": [
      "\u001b[0;31m---------------------------------------------------------------------------\u001b[0m",
      "\u001b[0;31mKeyError\u001b[0m                                  Traceback (most recent call last)",
      "\u001b[0;32m<ipython-input-29-f575dfbe0d2d>\u001b[0m in \u001b[0;36m<module>\u001b[0;34m\u001b[0m\n\u001b[0;32m----> 1\u001b[0;31m \u001b[0mS0101_data\u001b[0m \u001b[0;34m=\u001b[0m \u001b[0mS0101_data\u001b[0m\u001b[0;34m[\u001b[0m\u001b[0;34m[\u001b[0m\u001b[0mwanted_columns\u001b[0m\u001b[0;34m]\u001b[0m\u001b[0;34m]\u001b[0m\u001b[0;34m\u001b[0m\u001b[0;34m\u001b[0m\u001b[0m\n\u001b[0m",
      "\u001b[0;32m~/miniconda3/envs/LoopDashboard/lib/python3.9/site-packages/pandas/core/frame.py\u001b[0m in \u001b[0;36m__getitem__\u001b[0;34m(self, key)\u001b[0m\n\u001b[1;32m   3028\u001b[0m             \u001b[0;32mif\u001b[0m \u001b[0mis_iterator\u001b[0m\u001b[0;34m(\u001b[0m\u001b[0mkey\u001b[0m\u001b[0;34m)\u001b[0m\u001b[0;34m:\u001b[0m\u001b[0;34m\u001b[0m\u001b[0;34m\u001b[0m\u001b[0m\n\u001b[1;32m   3029\u001b[0m                 \u001b[0mkey\u001b[0m \u001b[0;34m=\u001b[0m \u001b[0mlist\u001b[0m\u001b[0;34m(\u001b[0m\u001b[0mkey\u001b[0m\u001b[0;34m)\u001b[0m\u001b[0;34m\u001b[0m\u001b[0;34m\u001b[0m\u001b[0m\n\u001b[0;32m-> 3030\u001b[0;31m             \u001b[0mindexer\u001b[0m \u001b[0;34m=\u001b[0m \u001b[0mself\u001b[0m\u001b[0;34m.\u001b[0m\u001b[0mloc\u001b[0m\u001b[0;34m.\u001b[0m\u001b[0m_get_listlike_indexer\u001b[0m\u001b[0;34m(\u001b[0m\u001b[0mkey\u001b[0m\u001b[0;34m,\u001b[0m \u001b[0maxis\u001b[0m\u001b[0;34m=\u001b[0m\u001b[0;36m1\u001b[0m\u001b[0;34m,\u001b[0m \u001b[0mraise_missing\u001b[0m\u001b[0;34m=\u001b[0m\u001b[0;32mTrue\u001b[0m\u001b[0;34m)\u001b[0m\u001b[0;34m[\u001b[0m\u001b[0;36m1\u001b[0m\u001b[0;34m]\u001b[0m\u001b[0;34m\u001b[0m\u001b[0;34m\u001b[0m\u001b[0m\n\u001b[0m\u001b[1;32m   3031\u001b[0m \u001b[0;34m\u001b[0m\u001b[0m\n\u001b[1;32m   3032\u001b[0m         \u001b[0;31m# take() does not accept boolean indexers\u001b[0m\u001b[0;34m\u001b[0m\u001b[0;34m\u001b[0m\u001b[0;34m\u001b[0m\u001b[0m\n",
      "\u001b[0;32m~/miniconda3/envs/LoopDashboard/lib/python3.9/site-packages/pandas/core/indexing.py\u001b[0m in \u001b[0;36m_get_listlike_indexer\u001b[0;34m(self, key, axis, raise_missing)\u001b[0m\n\u001b[1;32m   1263\u001b[0m             \u001b[0mkeyarr\u001b[0m\u001b[0;34m,\u001b[0m \u001b[0mindexer\u001b[0m\u001b[0;34m,\u001b[0m \u001b[0mnew_indexer\u001b[0m \u001b[0;34m=\u001b[0m \u001b[0max\u001b[0m\u001b[0;34m.\u001b[0m\u001b[0m_reindex_non_unique\u001b[0m\u001b[0;34m(\u001b[0m\u001b[0mkeyarr\u001b[0m\u001b[0;34m)\u001b[0m\u001b[0;34m\u001b[0m\u001b[0;34m\u001b[0m\u001b[0m\n\u001b[1;32m   1264\u001b[0m \u001b[0;34m\u001b[0m\u001b[0m\n\u001b[0;32m-> 1265\u001b[0;31m         \u001b[0mself\u001b[0m\u001b[0;34m.\u001b[0m\u001b[0m_validate_read_indexer\u001b[0m\u001b[0;34m(\u001b[0m\u001b[0mkeyarr\u001b[0m\u001b[0;34m,\u001b[0m \u001b[0mindexer\u001b[0m\u001b[0;34m,\u001b[0m \u001b[0maxis\u001b[0m\u001b[0;34m,\u001b[0m \u001b[0mraise_missing\u001b[0m\u001b[0;34m=\u001b[0m\u001b[0mraise_missing\u001b[0m\u001b[0;34m)\u001b[0m\u001b[0;34m\u001b[0m\u001b[0;34m\u001b[0m\u001b[0m\n\u001b[0m\u001b[1;32m   1266\u001b[0m         \u001b[0;32mreturn\u001b[0m \u001b[0mkeyarr\u001b[0m\u001b[0;34m,\u001b[0m \u001b[0mindexer\u001b[0m\u001b[0;34m\u001b[0m\u001b[0;34m\u001b[0m\u001b[0m\n\u001b[1;32m   1267\u001b[0m \u001b[0;34m\u001b[0m\u001b[0m\n",
      "\u001b[0;32m~/miniconda3/envs/LoopDashboard/lib/python3.9/site-packages/pandas/core/indexing.py\u001b[0m in \u001b[0;36m_validate_read_indexer\u001b[0;34m(self, key, indexer, axis, raise_missing)\u001b[0m\n\u001b[1;32m   1305\u001b[0m             \u001b[0;32mif\u001b[0m \u001b[0mmissing\u001b[0m \u001b[0;34m==\u001b[0m \u001b[0mlen\u001b[0m\u001b[0;34m(\u001b[0m\u001b[0mindexer\u001b[0m\u001b[0;34m)\u001b[0m\u001b[0;34m:\u001b[0m\u001b[0;34m\u001b[0m\u001b[0;34m\u001b[0m\u001b[0m\n\u001b[1;32m   1306\u001b[0m                 \u001b[0maxis_name\u001b[0m \u001b[0;34m=\u001b[0m \u001b[0mself\u001b[0m\u001b[0;34m.\u001b[0m\u001b[0mobj\u001b[0m\u001b[0;34m.\u001b[0m\u001b[0m_get_axis_name\u001b[0m\u001b[0;34m(\u001b[0m\u001b[0maxis\u001b[0m\u001b[0;34m)\u001b[0m\u001b[0;34m\u001b[0m\u001b[0;34m\u001b[0m\u001b[0m\n\u001b[0;32m-> 1307\u001b[0;31m                 \u001b[0;32mraise\u001b[0m \u001b[0mKeyError\u001b[0m\u001b[0;34m(\u001b[0m\u001b[0;34mf\"None of [{key}] are in the [{axis_name}]\"\u001b[0m\u001b[0;34m)\u001b[0m\u001b[0;34m\u001b[0m\u001b[0;34m\u001b[0m\u001b[0m\n\u001b[0m\u001b[1;32m   1308\u001b[0m \u001b[0;34m\u001b[0m\u001b[0m\n\u001b[1;32m   1309\u001b[0m             \u001b[0max\u001b[0m \u001b[0;34m=\u001b[0m \u001b[0mself\u001b[0m\u001b[0;34m.\u001b[0m\u001b[0mobj\u001b[0m\u001b[0;34m.\u001b[0m\u001b[0m_get_axis\u001b[0m\u001b[0;34m(\u001b[0m\u001b[0maxis\u001b[0m\u001b[0;34m)\u001b[0m\u001b[0;34m\u001b[0m\u001b[0;34m\u001b[0m\u001b[0m\n",
      "\u001b[0;31mKeyError\u001b[0m: \"None of [Index([('NAME', 'S0101_C01_001E', 'S0101_C01_001M', 'S0101_C01_002E', 'S0101_C01_002M', 'S0101_C01_003E', 'S0101_C01_003M', 'S0101_C01_004E', 'S0101_C01_004M', 'S0101_C01_005E', 'S0101_C01_005M', 'S0101_C01_006E', 'S0101_C01_006M', 'S0101_C01_007E', 'S0101_C01_007M', 'S0101_C01_008E', 'S0101_C01_008M', 'S0101_C01_009E', 'S0101_C01_009M', 'S0101_C01_010E', 'S0101_C01_010M', 'S0101_C01_011E', 'S0101_C01_011M', 'S0101_C01_012E', 'S0101_C01_012M', 'S0101_C01_013E', 'S0101_C01_013M', 'S0101_C01_014E', 'S0101_C01_014M', 'S0101_C01_015E', 'S0101_C01_015M', 'S0101_C01_016E', 'S0101_C01_016M', 'S0101_C01_017E', 'S0101_C01_017M', 'S0101_C01_018E', 'S0101_C01_018M', 'S0101_C01_019E', 'S0101_C01_019M', 'S0101_C01_020E', 'S0101_C01_020M', 'S0101_C01_021E', 'S0101_C01_021M', 'S0101_C01_022E', 'S0101_C01_022M', 'S0101_C01_023E', 'S0101_C01_023M', 'S0101_C01_024E', 'S0101_C01_024M', 'S0101_C01_025E', 'S0101_C01_025M', 'S0101_C01_026E', 'S0101_C01_026M', 'S0101_C01_027E', 'S0101_C01_027M', 'S0101_C01_028E', 'S0101_C01_028M', 'S0101_C01_029E', 'S0101_C01_029M', 'S0101_C01_030E', 'S0101_C01_030M', 'S0101_C01_031E', 'S0101_C01_031M', 'S0101_C01_032E', 'S0101_C01_032M', 'S0101_C01_033E', 'S0101_C01_033M', 'S0101_C01_034E', 'S0101_C01_034M', 'S0101_C01_035E', 'S0101_C01_035M', 'S0101_C01_036E', 'S0101_C01_036M', 'S0101_C01_037E', 'S0101_C01_037M', 'S0101_C01_038E', 'S0101_C01_038M', 'S0101_C02_001E', 'S0101_C02_001M', 'S0101_C02_002E', 'S0101_C02_002M', 'S0101_C02_003E', 'S0101_C02_003M', 'S0101_C02_004E', 'S0101_C02_004M', 'S0101_C02_005E', 'S0101_C02_005M', 'S0101_C02_006E', 'S0101_C02_006M', 'S0101_C02_007E', 'S0101_C02_007M', 'S0101_C02_008E', 'S0101_C02_008M', 'S0101_C02_009E', 'S0101_C02_009M', 'S0101_C02_010E', 'S0101_C02_010M', 'S0101_C02_011E', 'S0101_C02_011M', 'S0101_C02_012E', ...)], dtype='object')] are in the [columns]\""
     ]
    }
   ],
   "source": [
    "S0101_data = S0101_data[[wanted_columns]]"
   ]
  },
  {
   "cell_type": "code",
   "execution_count": null,
   "metadata": {},
   "outputs": [],
   "source": []
  }
 ],
 "metadata": {
  "kernelspec": {
   "display_name": "Python [conda env:LoopDashboard]",
   "language": "python",
   "name": "conda-env-LoopDashboard-py"
  },
  "language_info": {
   "codemirror_mode": {
    "name": "ipython",
    "version": 3
   },
   "file_extension": ".py",
   "mimetype": "text/x-python",
   "name": "python",
   "nbconvert_exporter": "python",
   "pygments_lexer": "ipython3",
   "version": "3.9.1"
  }
 },
 "nbformat": 4,
 "nbformat_minor": 4
}
