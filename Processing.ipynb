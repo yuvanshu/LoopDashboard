{
 "cells": [
  {
   "cell_type": "markdown",
   "metadata": {},
   "source": [
    "## Processing the Census Data By Subject Table at Texas Tract Level"
   ]
  },
  {
   "cell_type": "markdown",
   "metadata": {},
   "source": [
    "Note: Although the analysis of these tables can be done purely in jupyter it is very helpful to download the actual \n",
    "      spreadsheets for visual clarity, at least the metadata file."
   ]
  },
  {
   "cell_type": "code",
   "execution_count": 24,
   "metadata": {},
   "outputs": [],
   "source": [
    "import os\n",
    "import pandas as pd\n",
    "pd.set_option('display.max_colwidth', None)"
   ]
  },
  {
   "cell_type": "markdown",
   "metadata": {},
   "source": [
    "### First table is S0101 - Age and Sex"
   ]
  },
  {
   "cell_type": "code",
   "execution_count": 2,
   "metadata": {},
   "outputs": [],
   "source": [
    "data_dir = 'data/subject_tables/unzipped_files/ACSST5Y2019.S0101_2021-01-12T120250'"
   ]
  },
  {
   "cell_type": "code",
   "execution_count": 3,
   "metadata": {},
   "outputs": [],
   "source": [
    "S0101_data = pd.read_csv(os.path.join(data_dir, 'ACSST5Y2019.S0101_data_with_overlays_2021-01-08T174020.csv'), low_memory=False)\n",
    "S0101_metadata = pd.read_csv(os.path.join(data_dir, 'ACSST5Y2019.S0101_metadata_2021-01-08T174020.csv'))"
   ]
  },
  {
   "cell_type": "code",
   "execution_count": 4,
   "metadata": {},
   "outputs": [
    {
     "name": "stdout",
     "output_type": "stream",
     "text": [
      "Shape of data table proper is (5266, 458) \n",
      "Shape of metadata table is (457, 2)\n"
     ]
    }
   ],
   "source": [
    "print(f'Shape of data table proper is {S0101_data.shape} \\n'\n",
    "    + f'Shape of metadata table is {S0101_metadata.shape}')"
   ]
  },
  {
   "cell_type": "code",
   "execution_count": 5,
   "metadata": {},
   "outputs": [
    {
     "data": {
      "text/html": [
       "<div>\n",
       "<style scoped>\n",
       "    .dataframe tbody tr th:only-of-type {\n",
       "        vertical-align: middle;\n",
       "    }\n",
       "\n",
       "    .dataframe tbody tr th {\n",
       "        vertical-align: top;\n",
       "    }\n",
       "\n",
       "    .dataframe thead th {\n",
       "        text-align: right;\n",
       "    }\n",
       "</style>\n",
       "<table border=\"1\" class=\"dataframe\">\n",
       "  <thead>\n",
       "    <tr style=\"text-align: right;\">\n",
       "      <th></th>\n",
       "      <th>GEO_ID</th>\n",
       "      <th>NAME</th>\n",
       "      <th>S0101_C01_001E</th>\n",
       "      <th>S0101_C01_001M</th>\n",
       "      <th>S0101_C01_002E</th>\n",
       "      <th>S0101_C01_002M</th>\n",
       "      <th>S0101_C01_003E</th>\n",
       "      <th>S0101_C01_003M</th>\n",
       "      <th>S0101_C01_004E</th>\n",
       "      <th>S0101_C01_004M</th>\n",
       "      <th>...</th>\n",
       "      <th>S0101_C06_034E</th>\n",
       "      <th>S0101_C06_034M</th>\n",
       "      <th>S0101_C06_035E</th>\n",
       "      <th>S0101_C06_035M</th>\n",
       "      <th>S0101_C06_036E</th>\n",
       "      <th>S0101_C06_036M</th>\n",
       "      <th>S0101_C06_037E</th>\n",
       "      <th>S0101_C06_037M</th>\n",
       "      <th>S0101_C06_038E</th>\n",
       "      <th>S0101_C06_038M</th>\n",
       "    </tr>\n",
       "  </thead>\n",
       "  <tbody>\n",
       "    <tr>\n",
       "      <th>0</th>\n",
       "      <td>id</td>\n",
       "      <td>Geographic Area Name</td>\n",
       "      <td>Estimate!!Total!!Total population</td>\n",
       "      <td>Margin of Error!!Total!!Total population</td>\n",
       "      <td>Estimate!!Total!!Total population!!AGE!!Under ...</td>\n",
       "      <td>Margin of Error!!Total!!Total population!!AGE!...</td>\n",
       "      <td>Estimate!!Total!!Total population!!AGE!!5 to 9...</td>\n",
       "      <td>Margin of Error!!Total!!Total population!!AGE!...</td>\n",
       "      <td>Estimate!!Total!!Total population!!AGE!!10 to ...</td>\n",
       "      <td>Margin of Error!!Total!!Total population!!AGE!...</td>\n",
       "      <td>...</td>\n",
       "      <td>Estimate!!Percent Female!!Total population!!SU...</td>\n",
       "      <td>Margin of Error!!Percent Female!!Total populat...</td>\n",
       "      <td>Estimate!!Percent Female!!Total population!!SU...</td>\n",
       "      <td>Margin of Error!!Percent Female!!Total populat...</td>\n",
       "      <td>Estimate!!Percent Female!!Total population!!SU...</td>\n",
       "      <td>Margin of Error!!Percent Female!!Total populat...</td>\n",
       "      <td>Estimate!!Percent Female!!Total population!!PE...</td>\n",
       "      <td>Margin of Error!!Percent Female!!Total populat...</td>\n",
       "      <td>Estimate!!Percent Female!!Total population!!PE...</td>\n",
       "      <td>Margin of Error!!Percent Female!!Total populat...</td>\n",
       "    </tr>\n",
       "    <tr>\n",
       "      <th>1</th>\n",
       "      <td>1400000US48001950100</td>\n",
       "      <td>Census Tract 9501, Anderson County, Texas</td>\n",
       "      <td>4844</td>\n",
       "      <td>524</td>\n",
       "      <td>349</td>\n",
       "      <td>131</td>\n",
       "      <td>269</td>\n",
       "      <td>119</td>\n",
       "      <td>372</td>\n",
       "      <td>137</td>\n",
       "      <td>...</td>\n",
       "      <td>(X)</td>\n",
       "      <td>(X)</td>\n",
       "      <td>(X)</td>\n",
       "      <td>(X)</td>\n",
       "      <td>(X)</td>\n",
       "      <td>(X)</td>\n",
       "      <td>(X)</td>\n",
       "      <td>(X)</td>\n",
       "      <td>(X)</td>\n",
       "      <td>(X)</td>\n",
       "    </tr>\n",
       "  </tbody>\n",
       "</table>\n",
       "<p>2 rows × 458 columns</p>\n",
       "</div>"
      ],
      "text/plain": [
       "                 GEO_ID                                       NAME  \\\n",
       "0                    id                       Geographic Area Name   \n",
       "1  1400000US48001950100  Census Tract 9501, Anderson County, Texas   \n",
       "\n",
       "                      S0101_C01_001E  \\\n",
       "0  Estimate!!Total!!Total population   \n",
       "1                               4844   \n",
       "\n",
       "                             S0101_C01_001M  \\\n",
       "0  Margin of Error!!Total!!Total population   \n",
       "1                                       524   \n",
       "\n",
       "                                      S0101_C01_002E  \\\n",
       "0  Estimate!!Total!!Total population!!AGE!!Under ...   \n",
       "1                                                349   \n",
       "\n",
       "                                      S0101_C01_002M  \\\n",
       "0  Margin of Error!!Total!!Total population!!AGE!...   \n",
       "1                                                131   \n",
       "\n",
       "                                      S0101_C01_003E  \\\n",
       "0  Estimate!!Total!!Total population!!AGE!!5 to 9...   \n",
       "1                                                269   \n",
       "\n",
       "                                      S0101_C01_003M  \\\n",
       "0  Margin of Error!!Total!!Total population!!AGE!...   \n",
       "1                                                119   \n",
       "\n",
       "                                      S0101_C01_004E  \\\n",
       "0  Estimate!!Total!!Total population!!AGE!!10 to ...   \n",
       "1                                                372   \n",
       "\n",
       "                                      S0101_C01_004M  ...  \\\n",
       "0  Margin of Error!!Total!!Total population!!AGE!...  ...   \n",
       "1                                                137  ...   \n",
       "\n",
       "                                      S0101_C06_034E  \\\n",
       "0  Estimate!!Percent Female!!Total population!!SU...   \n",
       "1                                                (X)   \n",
       "\n",
       "                                      S0101_C06_034M  \\\n",
       "0  Margin of Error!!Percent Female!!Total populat...   \n",
       "1                                                (X)   \n",
       "\n",
       "                                      S0101_C06_035E  \\\n",
       "0  Estimate!!Percent Female!!Total population!!SU...   \n",
       "1                                                (X)   \n",
       "\n",
       "                                      S0101_C06_035M  \\\n",
       "0  Margin of Error!!Percent Female!!Total populat...   \n",
       "1                                                (X)   \n",
       "\n",
       "                                      S0101_C06_036E  \\\n",
       "0  Estimate!!Percent Female!!Total population!!SU...   \n",
       "1                                                (X)   \n",
       "\n",
       "                                      S0101_C06_036M  \\\n",
       "0  Margin of Error!!Percent Female!!Total populat...   \n",
       "1                                                (X)   \n",
       "\n",
       "                                      S0101_C06_037E  \\\n",
       "0  Estimate!!Percent Female!!Total population!!PE...   \n",
       "1                                                (X)   \n",
       "\n",
       "                                      S0101_C06_037M  \\\n",
       "0  Margin of Error!!Percent Female!!Total populat...   \n",
       "1                                                (X)   \n",
       "\n",
       "                                      S0101_C06_038E  \\\n",
       "0  Estimate!!Percent Female!!Total population!!PE...   \n",
       "1                                                (X)   \n",
       "\n",
       "                                      S0101_C06_038M  \n",
       "0  Margin of Error!!Percent Female!!Total populat...  \n",
       "1                                                (X)  \n",
       "\n",
       "[2 rows x 458 columns]"
      ]
     },
     "execution_count": 5,
     "metadata": {},
     "output_type": "execute_result"
    }
   ],
   "source": [
    "S0101_data.head(2)"
   ]
  },
  {
   "cell_type": "code",
   "execution_count": 6,
   "metadata": {},
   "outputs": [
    {
     "data": {
      "text/html": [
       "<div>\n",
       "<style scoped>\n",
       "    .dataframe tbody tr th:only-of-type {\n",
       "        vertical-align: middle;\n",
       "    }\n",
       "\n",
       "    .dataframe tbody tr th {\n",
       "        vertical-align: top;\n",
       "    }\n",
       "\n",
       "    .dataframe thead th {\n",
       "        text-align: right;\n",
       "    }\n",
       "</style>\n",
       "<table border=\"1\" class=\"dataframe\">\n",
       "  <thead>\n",
       "    <tr style=\"text-align: right;\">\n",
       "      <th></th>\n",
       "      <th>GEO_ID</th>\n",
       "      <th>id</th>\n",
       "    </tr>\n",
       "  </thead>\n",
       "  <tbody>\n",
       "    <tr>\n",
       "      <th>0</th>\n",
       "      <td>NAME</td>\n",
       "      <td>Geographic Area Name</td>\n",
       "    </tr>\n",
       "    <tr>\n",
       "      <th>1</th>\n",
       "      <td>S0101_C01_001E</td>\n",
       "      <td>Estimate!!Total!!Total population</td>\n",
       "    </tr>\n",
       "  </tbody>\n",
       "</table>\n",
       "</div>"
      ],
      "text/plain": [
       "           GEO_ID                                 id\n",
       "0            NAME               Geographic Area Name\n",
       "1  S0101_C01_001E  Estimate!!Total!!Total population"
      ]
     },
     "execution_count": 6,
     "metadata": {},
     "output_type": "execute_result"
    }
   ],
   "source": [
    "S0101_metadata.iloc[:2]"
   ]
  },
  {
   "cell_type": "code",
   "execution_count": 7,
   "metadata": {},
   "outputs": [],
   "source": [
    "# Breaking apart GEO_ID column into the FIPS components and creating new columns for them.\n",
    "# Triple index due to: 1st index specify Series column, second specify component of our split list, 3rd is grabbing correct digits.\n",
    "S0101_data[\"STATE\"] = S0101_data.GEO_ID.str.split('US')[1][1][:2]\n",
    "S0101_data[\"COUNTYFP\"] = S0101_data.GEO_ID.str.split('US')[1][1][2:5]\n",
    "S0101_data[\"TRACTCE\"] = S0101_data.GEO_ID.str.split('US')[1][1][5:]"
   ]
  },
  {
   "cell_type": "code",
   "execution_count": 8,
   "metadata": {},
   "outputs": [
    {
     "data": {
      "text/html": [
       "<div>\n",
       "<style scoped>\n",
       "    .dataframe tbody tr th:only-of-type {\n",
       "        vertical-align: middle;\n",
       "    }\n",
       "\n",
       "    .dataframe tbody tr th {\n",
       "        vertical-align: top;\n",
       "    }\n",
       "\n",
       "    .dataframe thead th {\n",
       "        text-align: right;\n",
       "    }\n",
       "</style>\n",
       "<table border=\"1\" class=\"dataframe\">\n",
       "  <thead>\n",
       "    <tr style=\"text-align: right;\">\n",
       "      <th></th>\n",
       "      <th>STATE</th>\n",
       "      <th>COUNTYFP</th>\n",
       "      <th>TRACTCE</th>\n",
       "    </tr>\n",
       "  </thead>\n",
       "  <tbody>\n",
       "    <tr>\n",
       "      <th>0</th>\n",
       "      <td>48</td>\n",
       "      <td>001</td>\n",
       "      <td>950100</td>\n",
       "    </tr>\n",
       "    <tr>\n",
       "      <th>1</th>\n",
       "      <td>48</td>\n",
       "      <td>001</td>\n",
       "      <td>950100</td>\n",
       "    </tr>\n",
       "  </tbody>\n",
       "</table>\n",
       "</div>"
      ],
      "text/plain": [
       "  STATE COUNTYFP TRACTCE\n",
       "0    48      001  950100\n",
       "1    48      001  950100"
      ]
     },
     "execution_count": 8,
     "metadata": {},
     "output_type": "execute_result"
    }
   ],
   "source": [
    "S0101_data[['STATE', 'COUNTYFP', 'TRACTCE']].head(2)"
   ]
  },
  {
   "cell_type": "markdown",
   "metadata": {},
   "source": [
    "The rows in the metadata table provide a dictionary for the columns in the actual data table, but there are some minor offsets\n",
    "to be made in order to make matching indices (i.e. row 1 in metadata table corresponds to column 1).\n",
    "\n",
    "If we drop the GEO_ID and NAME columns in the dataset and drop the first row of the metadataset then they will be aligned. We should \n",
    "break apart the GEOID field into its FIPS components for easier matching of datasets.\n",
    "\n",
    "FIPS codes are 11 digits long. 2 state digits, 3 county digits, 6 tract digits.\n",
    "\n",
    "In the GEO_ID column the FIPS code comes after the US characters."
   ]
  },
  {
   "cell_type": "code",
   "execution_count": 9,
   "metadata": {},
   "outputs": [],
   "source": [
    "S0101_data.drop(columns=['GEO_ID', 'NAME'], inplace=True)\n",
    "S0101_metadata.drop(index=0, axis=0, inplace=True)\n",
    "S0101_metadata.reset_index(drop=True, inplace=True)\n",
    "\n",
    "# Subtracting 3 to S0101_data.shape[1] to account for the our creation of 3 new columns\n",
    "assert (S0101_data.shape[1]-3 == S0101_metadata.shape[0]), print('mismatch in metadata and data correspondence')"
   ]
  },
  {
   "cell_type": "code",
   "execution_count": 25,
   "metadata": {},
   "outputs": [
    {
     "data": {
      "text/html": [
       "<div>\n",
       "<style scoped>\n",
       "    .dataframe tbody tr th:only-of-type {\n",
       "        vertical-align: middle;\n",
       "    }\n",
       "\n",
       "    .dataframe tbody tr th {\n",
       "        vertical-align: top;\n",
       "    }\n",
       "\n",
       "    .dataframe thead th {\n",
       "        text-align: right;\n",
       "    }\n",
       "</style>\n",
       "<table border=\"1\" class=\"dataframe\">\n",
       "  <thead>\n",
       "    <tr style=\"text-align: right;\">\n",
       "      <th></th>\n",
       "      <th>GEO_ID</th>\n",
       "      <th>id</th>\n",
       "    </tr>\n",
       "  </thead>\n",
       "  <tbody>\n",
       "    <tr>\n",
       "      <th>0</th>\n",
       "      <td>S0101_C01_001E</td>\n",
       "      <td>Estimate!!Total!!Total population</td>\n",
       "    </tr>\n",
       "    <tr>\n",
       "      <th>1</th>\n",
       "      <td>S0101_C01_001M</td>\n",
       "      <td>Margin of Error!!Total!!Total population</td>\n",
       "    </tr>\n",
       "    <tr>\n",
       "      <th>2</th>\n",
       "      <td>S0101_C01_002E</td>\n",
       "      <td>Estimate!!Total!!Total population!!AGE!!Under 5 years</td>\n",
       "    </tr>\n",
       "    <tr>\n",
       "      <th>3</th>\n",
       "      <td>S0101_C01_002M</td>\n",
       "      <td>Margin of Error!!Total!!Total population!!AGE!!Under 5 years</td>\n",
       "    </tr>\n",
       "    <tr>\n",
       "      <th>4</th>\n",
       "      <td>S0101_C01_003E</td>\n",
       "      <td>Estimate!!Total!!Total population!!AGE!!5 to 9 years</td>\n",
       "    </tr>\n",
       "    <tr>\n",
       "      <th>5</th>\n",
       "      <td>S0101_C01_003M</td>\n",
       "      <td>Margin of Error!!Total!!Total population!!AGE!!5 to 9 years</td>\n",
       "    </tr>\n",
       "    <tr>\n",
       "      <th>6</th>\n",
       "      <td>S0101_C01_004E</td>\n",
       "      <td>Estimate!!Total!!Total population!!AGE!!10 to 14 years</td>\n",
       "    </tr>\n",
       "    <tr>\n",
       "      <th>7</th>\n",
       "      <td>S0101_C01_004M</td>\n",
       "      <td>Margin of Error!!Total!!Total population!!AGE!!10 to 14 years</td>\n",
       "    </tr>\n",
       "    <tr>\n",
       "      <th>8</th>\n",
       "      <td>S0101_C01_005E</td>\n",
       "      <td>Estimate!!Total!!Total population!!AGE!!15 to 19 years</td>\n",
       "    </tr>\n",
       "    <tr>\n",
       "      <th>9</th>\n",
       "      <td>S0101_C01_005M</td>\n",
       "      <td>Margin of Error!!Total!!Total population!!AGE!!15 to 19 years</td>\n",
       "    </tr>\n",
       "    <tr>\n",
       "      <th>10</th>\n",
       "      <td>S0101_C01_006E</td>\n",
       "      <td>Estimate!!Total!!Total population!!AGE!!20 to 24 years</td>\n",
       "    </tr>\n",
       "    <tr>\n",
       "      <th>11</th>\n",
       "      <td>S0101_C01_006M</td>\n",
       "      <td>Margin of Error!!Total!!Total population!!AGE!!20 to 24 years</td>\n",
       "    </tr>\n",
       "    <tr>\n",
       "      <th>12</th>\n",
       "      <td>S0101_C01_007E</td>\n",
       "      <td>Estimate!!Total!!Total population!!AGE!!25 to 29 years</td>\n",
       "    </tr>\n",
       "    <tr>\n",
       "      <th>13</th>\n",
       "      <td>S0101_C01_007M</td>\n",
       "      <td>Margin of Error!!Total!!Total population!!AGE!!25 to 29 years</td>\n",
       "    </tr>\n",
       "    <tr>\n",
       "      <th>14</th>\n",
       "      <td>S0101_C01_008E</td>\n",
       "      <td>Estimate!!Total!!Total population!!AGE!!30 to 34 years</td>\n",
       "    </tr>\n",
       "  </tbody>\n",
       "</table>\n",
       "</div>"
      ],
      "text/plain": [
       "            GEO_ID                                                             id\n",
       "0   S0101_C01_001E                              Estimate!!Total!!Total population\n",
       "1   S0101_C01_001M                       Margin of Error!!Total!!Total population\n",
       "2   S0101_C01_002E          Estimate!!Total!!Total population!!AGE!!Under 5 years\n",
       "3   S0101_C01_002M   Margin of Error!!Total!!Total population!!AGE!!Under 5 years\n",
       "4   S0101_C01_003E           Estimate!!Total!!Total population!!AGE!!5 to 9 years\n",
       "5   S0101_C01_003M    Margin of Error!!Total!!Total population!!AGE!!5 to 9 years\n",
       "6   S0101_C01_004E         Estimate!!Total!!Total population!!AGE!!10 to 14 years\n",
       "7   S0101_C01_004M  Margin of Error!!Total!!Total population!!AGE!!10 to 14 years\n",
       "8   S0101_C01_005E         Estimate!!Total!!Total population!!AGE!!15 to 19 years\n",
       "9   S0101_C01_005M  Margin of Error!!Total!!Total population!!AGE!!15 to 19 years\n",
       "10  S0101_C01_006E         Estimate!!Total!!Total population!!AGE!!20 to 24 years\n",
       "11  S0101_C01_006M  Margin of Error!!Total!!Total population!!AGE!!20 to 24 years\n",
       "12  S0101_C01_007E         Estimate!!Total!!Total population!!AGE!!25 to 29 years\n",
       "13  S0101_C01_007M  Margin of Error!!Total!!Total population!!AGE!!25 to 29 years\n",
       "14  S0101_C01_008E         Estimate!!Total!!Total population!!AGE!!30 to 34 years"
      ]
     },
     "execution_count": 25,
     "metadata": {},
     "output_type": "execute_result"
    }
   ],
   "source": [
    "S0101_metadata.head(15)"
   ]
  },
  {
   "cell_type": "code",
   "execution_count": 16,
   "metadata": {},
   "outputs": [],
   "source": [
    "int_locations = [3, *(list(range(15,30,2))), 43, 47, 61, 155, 307] # These are the rows as they appear in metadata excel sheet\n",
    "int_locations = [x-3 for x in int_locations] # Offsetting these indicies to account for drops, header and 0-index pandas scheme"
   ]
  },
  {
   "cell_type": "code",
   "execution_count": 26,
   "metadata": {},
   "outputs": [
    {
     "data": {
      "text/html": [
       "<div>\n",
       "<style scoped>\n",
       "    .dataframe tbody tr th:only-of-type {\n",
       "        vertical-align: middle;\n",
       "    }\n",
       "\n",
       "    .dataframe tbody tr th {\n",
       "        vertical-align: top;\n",
       "    }\n",
       "\n",
       "    .dataframe thead th {\n",
       "        text-align: right;\n",
       "    }\n",
       "</style>\n",
       "<table border=\"1\" class=\"dataframe\">\n",
       "  <thead>\n",
       "    <tr style=\"text-align: right;\">\n",
       "      <th></th>\n",
       "      <th>GEO_ID</th>\n",
       "      <th>id</th>\n",
       "    </tr>\n",
       "  </thead>\n",
       "  <tbody>\n",
       "    <tr>\n",
       "      <th>0</th>\n",
       "      <td>S0101_C01_001E</td>\n",
       "      <td>Estimate!!Total!!Total population</td>\n",
       "    </tr>\n",
       "    <tr>\n",
       "      <th>12</th>\n",
       "      <td>S0101_C01_007E</td>\n",
       "      <td>Estimate!!Total!!Total population!!AGE!!25 to 29 years</td>\n",
       "    </tr>\n",
       "    <tr>\n",
       "      <th>14</th>\n",
       "      <td>S0101_C01_008E</td>\n",
       "      <td>Estimate!!Total!!Total population!!AGE!!30 to 34 years</td>\n",
       "    </tr>\n",
       "    <tr>\n",
       "      <th>16</th>\n",
       "      <td>S0101_C01_009E</td>\n",
       "      <td>Estimate!!Total!!Total population!!AGE!!35 to 39 years</td>\n",
       "    </tr>\n",
       "    <tr>\n",
       "      <th>18</th>\n",
       "      <td>S0101_C01_010E</td>\n",
       "      <td>Estimate!!Total!!Total population!!AGE!!40 to 44 years</td>\n",
       "    </tr>\n",
       "    <tr>\n",
       "      <th>20</th>\n",
       "      <td>S0101_C01_011E</td>\n",
       "      <td>Estimate!!Total!!Total population!!AGE!!45 to 49 years</td>\n",
       "    </tr>\n",
       "    <tr>\n",
       "      <th>22</th>\n",
       "      <td>S0101_C01_012E</td>\n",
       "      <td>Estimate!!Total!!Total population!!AGE!!50 to 54 years</td>\n",
       "    </tr>\n",
       "    <tr>\n",
       "      <th>24</th>\n",
       "      <td>S0101_C01_013E</td>\n",
       "      <td>Estimate!!Total!!Total population!!AGE!!55 to 59 years</td>\n",
       "    </tr>\n",
       "    <tr>\n",
       "      <th>26</th>\n",
       "      <td>S0101_C01_014E</td>\n",
       "      <td>Estimate!!Total!!Total population!!AGE!!60 to 64 years</td>\n",
       "    </tr>\n",
       "    <tr>\n",
       "      <th>40</th>\n",
       "      <td>S0101_C01_021E</td>\n",
       "      <td>Estimate!!Total!!Total population!!SELECTED AGE CATEGORIES!!15 to 17 years</td>\n",
       "    </tr>\n",
       "    <tr>\n",
       "      <th>44</th>\n",
       "      <td>S0101_C01_023E</td>\n",
       "      <td>Estimate!!Total!!Total population!!SELECTED AGE CATEGORIES!!18 to 24 years</td>\n",
       "    </tr>\n",
       "    <tr>\n",
       "      <th>58</th>\n",
       "      <td>S0101_C01_030E</td>\n",
       "      <td>Estimate!!Total!!Total population!!SELECTED AGE CATEGORIES!!65 years and over</td>\n",
       "    </tr>\n",
       "    <tr>\n",
       "      <th>152</th>\n",
       "      <td>S0101_C03_001E</td>\n",
       "      <td>Estimate!!Male!!Total population</td>\n",
       "    </tr>\n",
       "    <tr>\n",
       "      <th>304</th>\n",
       "      <td>S0101_C05_001E</td>\n",
       "      <td>Estimate!!Female!!Total population</td>\n",
       "    </tr>\n",
       "  </tbody>\n",
       "</table>\n",
       "</div>"
      ],
      "text/plain": [
       "             GEO_ID                                                                             id\n",
       "0    S0101_C01_001E                                              Estimate!!Total!!Total population\n",
       "12   S0101_C01_007E                         Estimate!!Total!!Total population!!AGE!!25 to 29 years\n",
       "14   S0101_C01_008E                         Estimate!!Total!!Total population!!AGE!!30 to 34 years\n",
       "16   S0101_C01_009E                         Estimate!!Total!!Total population!!AGE!!35 to 39 years\n",
       "18   S0101_C01_010E                         Estimate!!Total!!Total population!!AGE!!40 to 44 years\n",
       "20   S0101_C01_011E                         Estimate!!Total!!Total population!!AGE!!45 to 49 years\n",
       "22   S0101_C01_012E                         Estimate!!Total!!Total population!!AGE!!50 to 54 years\n",
       "24   S0101_C01_013E                         Estimate!!Total!!Total population!!AGE!!55 to 59 years\n",
       "26   S0101_C01_014E                         Estimate!!Total!!Total population!!AGE!!60 to 64 years\n",
       "40   S0101_C01_021E     Estimate!!Total!!Total population!!SELECTED AGE CATEGORIES!!15 to 17 years\n",
       "44   S0101_C01_023E     Estimate!!Total!!Total population!!SELECTED AGE CATEGORIES!!18 to 24 years\n",
       "58   S0101_C01_030E  Estimate!!Total!!Total population!!SELECTED AGE CATEGORIES!!65 years and over\n",
       "152  S0101_C03_001E                                               Estimate!!Male!!Total population\n",
       "304  S0101_C05_001E                                             Estimate!!Female!!Total population"
      ]
     },
     "execution_count": 26,
     "metadata": {},
     "output_type": "execute_result"
    }
   ],
   "source": [
    "S0101_metadata.iloc[int_locations]"
   ]
  },
  {
   "cell_type": "code",
   "execution_count": 27,
   "metadata": {},
   "outputs": [],
   "source": [
    "wanted_columns = S0101_metadata.GEO_ID.iloc[int_locations].to_list()"
   ]
  },
  {
   "cell_type": "code",
   "execution_count": 28,
   "metadata": {},
   "outputs": [
    {
     "data": {
      "text/plain": [
       "['S0101_C01_001E',\n",
       " 'S0101_C01_007E',\n",
       " 'S0101_C01_008E',\n",
       " 'S0101_C01_009E',\n",
       " 'S0101_C01_010E',\n",
       " 'S0101_C01_011E',\n",
       " 'S0101_C01_012E',\n",
       " 'S0101_C01_013E',\n",
       " 'S0101_C01_014E',\n",
       " 'S0101_C01_021E',\n",
       " 'S0101_C01_023E',\n",
       " 'S0101_C01_030E',\n",
       " 'S0101_C03_001E',\n",
       " 'S0101_C05_001E']"
      ]
     },
     "execution_count": 28,
     "metadata": {},
     "output_type": "execute_result"
    }
   ],
   "source": [
    "wanted_columns"
   ]
  },
  {
   "cell_type": "code",
   "execution_count": 30,
   "metadata": {},
   "outputs": [],
   "source": [
    "S0101_data = S0101_data[wanted_columns]"
   ]
  },
  {
   "cell_type": "code",
   "execution_count": 31,
   "metadata": {},
   "outputs": [
    {
     "data": {
      "text/html": [
       "<div>\n",
       "<style scoped>\n",
       "    .dataframe tbody tr th:only-of-type {\n",
       "        vertical-align: middle;\n",
       "    }\n",
       "\n",
       "    .dataframe tbody tr th {\n",
       "        vertical-align: top;\n",
       "    }\n",
       "\n",
       "    .dataframe thead th {\n",
       "        text-align: right;\n",
       "    }\n",
       "</style>\n",
       "<table border=\"1\" class=\"dataframe\">\n",
       "  <thead>\n",
       "    <tr style=\"text-align: right;\">\n",
       "      <th></th>\n",
       "      <th>S0101_C01_001E</th>\n",
       "      <th>S0101_C01_007E</th>\n",
       "      <th>S0101_C01_008E</th>\n",
       "      <th>S0101_C01_009E</th>\n",
       "      <th>S0101_C01_010E</th>\n",
       "      <th>S0101_C01_011E</th>\n",
       "      <th>S0101_C01_012E</th>\n",
       "      <th>S0101_C01_013E</th>\n",
       "      <th>S0101_C01_014E</th>\n",
       "      <th>S0101_C01_021E</th>\n",
       "      <th>S0101_C01_023E</th>\n",
       "      <th>S0101_C01_030E</th>\n",
       "      <th>S0101_C03_001E</th>\n",
       "      <th>S0101_C05_001E</th>\n",
       "    </tr>\n",
       "  </thead>\n",
       "  <tbody>\n",
       "    <tr>\n",
       "      <th>0</th>\n",
       "      <td>Estimate!!Total!!Total population</td>\n",
       "      <td>Estimate!!Total!!Total population!!AGE!!25 to 29 years</td>\n",
       "      <td>Estimate!!Total!!Total population!!AGE!!30 to 34 years</td>\n",
       "      <td>Estimate!!Total!!Total population!!AGE!!35 to 39 years</td>\n",
       "      <td>Estimate!!Total!!Total population!!AGE!!40 to 44 years</td>\n",
       "      <td>Estimate!!Total!!Total population!!AGE!!45 to 49 years</td>\n",
       "      <td>Estimate!!Total!!Total population!!AGE!!50 to 54 years</td>\n",
       "      <td>Estimate!!Total!!Total population!!AGE!!55 to 59 years</td>\n",
       "      <td>Estimate!!Total!!Total population!!AGE!!60 to 64 years</td>\n",
       "      <td>Estimate!!Total!!Total population!!SELECTED AGE CATEGORIES!!15 to 17 years</td>\n",
       "      <td>Estimate!!Total!!Total population!!SELECTED AGE CATEGORIES!!18 to 24 years</td>\n",
       "      <td>Estimate!!Total!!Total population!!SELECTED AGE CATEGORIES!!65 years and over</td>\n",
       "      <td>Estimate!!Male!!Total population</td>\n",
       "      <td>Estimate!!Female!!Total population</td>\n",
       "    </tr>\n",
       "    <tr>\n",
       "      <th>1</th>\n",
       "      <td>4844</td>\n",
       "      <td>252</td>\n",
       "      <td>197</td>\n",
       "      <td>335</td>\n",
       "      <td>163</td>\n",
       "      <td>312</td>\n",
       "      <td>447</td>\n",
       "      <td>318</td>\n",
       "      <td>318</td>\n",
       "      <td>250</td>\n",
       "      <td>205</td>\n",
       "      <td>1057</td>\n",
       "      <td>2486</td>\n",
       "      <td>2358</td>\n",
       "    </tr>\n",
       "  </tbody>\n",
       "</table>\n",
       "</div>"
      ],
      "text/plain": [
       "                      S0101_C01_001E                                          S0101_C01_007E                                          S0101_C01_008E                                          S0101_C01_009E                                          S0101_C01_010E                                          S0101_C01_011E                                          S0101_C01_012E                                          S0101_C01_013E                                          S0101_C01_014E                                                              S0101_C01_021E                                                              S0101_C01_023E                                                                 S0101_C01_030E                    S0101_C03_001E                      S0101_C05_001E\n",
       "0  Estimate!!Total!!Total population  Estimate!!Total!!Total population!!AGE!!25 to 29 years  Estimate!!Total!!Total population!!AGE!!30 to 34 years  Estimate!!Total!!Total population!!AGE!!35 to 39 years  Estimate!!Total!!Total population!!AGE!!40 to 44 years  Estimate!!Total!!Total population!!AGE!!45 to 49 years  Estimate!!Total!!Total population!!AGE!!50 to 54 years  Estimate!!Total!!Total population!!AGE!!55 to 59 years  Estimate!!Total!!Total population!!AGE!!60 to 64 years  Estimate!!Total!!Total population!!SELECTED AGE CATEGORIES!!15 to 17 years  Estimate!!Total!!Total population!!SELECTED AGE CATEGORIES!!18 to 24 years  Estimate!!Total!!Total population!!SELECTED AGE CATEGORIES!!65 years and over  Estimate!!Male!!Total population  Estimate!!Female!!Total population\n",
       "1                               4844                                                     252                                                     197                                                     335                                                     163                                                     312                                                     447                                                     318                                                     318                                                                         250                                                                         205                                                                           1057                              2486                                2358"
      ]
     },
     "execution_count": 31,
     "metadata": {},
     "output_type": "execute_result"
    }
   ],
   "source": [
    "S0101_data.head(2)"
   ]
  },
  {
   "cell_type": "code",
   "execution_count": 32,
   "metadata": {},
   "outputs": [],
   "source": [
    "column_dictionary = dict(zip(S0101_data.columns, S0101_data.iloc[0]))"
   ]
  },
  {
   "cell_type": "code",
   "execution_count": 33,
   "metadata": {},
   "outputs": [
    {
     "data": {
      "text/plain": [
       "{'S0101_C01_001E': 'Estimate!!Total!!Total population',\n",
       " 'S0101_C01_007E': 'Estimate!!Total!!Total population!!AGE!!25 to 29 years',\n",
       " 'S0101_C01_008E': 'Estimate!!Total!!Total population!!AGE!!30 to 34 years',\n",
       " 'S0101_C01_009E': 'Estimate!!Total!!Total population!!AGE!!35 to 39 years',\n",
       " 'S0101_C01_010E': 'Estimate!!Total!!Total population!!AGE!!40 to 44 years',\n",
       " 'S0101_C01_011E': 'Estimate!!Total!!Total population!!AGE!!45 to 49 years',\n",
       " 'S0101_C01_012E': 'Estimate!!Total!!Total population!!AGE!!50 to 54 years',\n",
       " 'S0101_C01_013E': 'Estimate!!Total!!Total population!!AGE!!55 to 59 years',\n",
       " 'S0101_C01_014E': 'Estimate!!Total!!Total population!!AGE!!60 to 64 years',\n",
       " 'S0101_C01_021E': 'Estimate!!Total!!Total population!!SELECTED AGE CATEGORIES!!15 to 17 years',\n",
       " 'S0101_C01_023E': 'Estimate!!Total!!Total population!!SELECTED AGE CATEGORIES!!18 to 24 years',\n",
       " 'S0101_C01_030E': 'Estimate!!Total!!Total population!!SELECTED AGE CATEGORIES!!65 years and over',\n",
       " 'S0101_C03_001E': 'Estimate!!Male!!Total population',\n",
       " 'S0101_C05_001E': 'Estimate!!Female!!Total population'}"
      ]
     },
     "execution_count": 33,
     "metadata": {},
     "output_type": "execute_result"
    }
   ],
   "source": [
    "column_dictionary"
   ]
  },
  {
   "cell_type": "code",
   "execution_count": 34,
   "metadata": {},
   "outputs": [],
   "source": [
    "S0101_data.drop(index=0, axis=0, inplace=True)"
   ]
  },
  {
   "cell_type": "code",
   "execution_count": 36,
   "metadata": {},
   "outputs": [],
   "source": [
    "S0101_data.reset_index(drop=True, inplace=True)"
   ]
  },
  {
   "cell_type": "code",
   "execution_count": 37,
   "metadata": {},
   "outputs": [
    {
     "data": {
      "text/html": [
       "<div>\n",
       "<style scoped>\n",
       "    .dataframe tbody tr th:only-of-type {\n",
       "        vertical-align: middle;\n",
       "    }\n",
       "\n",
       "    .dataframe tbody tr th {\n",
       "        vertical-align: top;\n",
       "    }\n",
       "\n",
       "    .dataframe thead th {\n",
       "        text-align: right;\n",
       "    }\n",
       "</style>\n",
       "<table border=\"1\" class=\"dataframe\">\n",
       "  <thead>\n",
       "    <tr style=\"text-align: right;\">\n",
       "      <th></th>\n",
       "      <th>S0101_C01_001E</th>\n",
       "      <th>S0101_C01_007E</th>\n",
       "      <th>S0101_C01_008E</th>\n",
       "      <th>S0101_C01_009E</th>\n",
       "      <th>S0101_C01_010E</th>\n",
       "      <th>S0101_C01_011E</th>\n",
       "      <th>S0101_C01_012E</th>\n",
       "      <th>S0101_C01_013E</th>\n",
       "      <th>S0101_C01_014E</th>\n",
       "      <th>S0101_C01_021E</th>\n",
       "      <th>S0101_C01_023E</th>\n",
       "      <th>S0101_C01_030E</th>\n",
       "      <th>S0101_C03_001E</th>\n",
       "      <th>S0101_C05_001E</th>\n",
       "    </tr>\n",
       "  </thead>\n",
       "  <tbody>\n",
       "    <tr>\n",
       "      <th>0</th>\n",
       "      <td>4844</td>\n",
       "      <td>252</td>\n",
       "      <td>197</td>\n",
       "      <td>335</td>\n",
       "      <td>163</td>\n",
       "      <td>312</td>\n",
       "      <td>447</td>\n",
       "      <td>318</td>\n",
       "      <td>318</td>\n",
       "      <td>250</td>\n",
       "      <td>205</td>\n",
       "      <td>1057</td>\n",
       "      <td>2486</td>\n",
       "      <td>2358</td>\n",
       "    </tr>\n",
       "    <tr>\n",
       "      <th>1</th>\n",
       "      <td>4838</td>\n",
       "      <td>843</td>\n",
       "      <td>907</td>\n",
       "      <td>753</td>\n",
       "      <td>444</td>\n",
       "      <td>419</td>\n",
       "      <td>314</td>\n",
       "      <td>223</td>\n",
       "      <td>73</td>\n",
       "      <td>0</td>\n",
       "      <td>634</td>\n",
       "      <td>84</td>\n",
       "      <td>4658</td>\n",
       "      <td>180</td>\n",
       "    </tr>\n",
       "    <tr>\n",
       "      <th>2</th>\n",
       "      <td>7511</td>\n",
       "      <td>586</td>\n",
       "      <td>1339</td>\n",
       "      <td>1333</td>\n",
       "      <td>1171</td>\n",
       "      <td>980</td>\n",
       "      <td>790</td>\n",
       "      <td>485</td>\n",
       "      <td>315</td>\n",
       "      <td>5</td>\n",
       "      <td>268</td>\n",
       "      <td>214</td>\n",
       "      <td>7425</td>\n",
       "      <td>86</td>\n",
       "    </tr>\n",
       "    <tr>\n",
       "      <th>3</th>\n",
       "      <td>4465</td>\n",
       "      <td>483</td>\n",
       "      <td>199</td>\n",
       "      <td>268</td>\n",
       "      <td>413</td>\n",
       "      <td>204</td>\n",
       "      <td>224</td>\n",
       "      <td>253</td>\n",
       "      <td>191</td>\n",
       "      <td>190</td>\n",
       "      <td>383</td>\n",
       "      <td>654</td>\n",
       "      <td>2273</td>\n",
       "      <td>2192</td>\n",
       "    </tr>\n",
       "    <tr>\n",
       "      <th>4</th>\n",
       "      <td>5148</td>\n",
       "      <td>552</td>\n",
       "      <td>355</td>\n",
       "      <td>484</td>\n",
       "      <td>204</td>\n",
       "      <td>182</td>\n",
       "      <td>334</td>\n",
       "      <td>279</td>\n",
       "      <td>373</td>\n",
       "      <td>344</td>\n",
       "      <td>448</td>\n",
       "      <td>730</td>\n",
       "      <td>2530</td>\n",
       "      <td>2618</td>\n",
       "    </tr>\n",
       "  </tbody>\n",
       "</table>\n",
       "</div>"
      ],
      "text/plain": [
       "  S0101_C01_001E S0101_C01_007E S0101_C01_008E S0101_C01_009E S0101_C01_010E S0101_C01_011E S0101_C01_012E S0101_C01_013E S0101_C01_014E S0101_C01_021E S0101_C01_023E S0101_C01_030E S0101_C03_001E S0101_C05_001E\n",
       "0           4844            252            197            335            163            312            447            318            318            250            205           1057           2486           2358\n",
       "1           4838            843            907            753            444            419            314            223             73              0            634             84           4658            180\n",
       "2           7511            586           1339           1333           1171            980            790            485            315              5            268            214           7425             86\n",
       "3           4465            483            199            268            413            204            224            253            191            190            383            654           2273           2192\n",
       "4           5148            552            355            484            204            182            334            279            373            344            448            730           2530           2618"
      ]
     },
     "execution_count": 37,
     "metadata": {},
     "output_type": "execute_result"
    }
   ],
   "source": [
    "S0101_data.head()"
   ]
  },
  {
   "cell_type": "code",
   "execution_count": 38,
   "metadata": {},
   "outputs": [
    {
     "data": {
      "text/plain": [
       "(5265, 14)"
      ]
     },
     "execution_count": 38,
     "metadata": {},
     "output_type": "execute_result"
    }
   ],
   "source": [
    "S0101_data.shape"
   ]
  },
  {
   "cell_type": "markdown",
   "metadata": {},
   "source": [
    "Reorder the columns and then compress the bins if necessary to align with our wanted columns."
   ]
  },
  {
   "cell_type": "code",
   "execution_count": 46,
   "metadata": {},
   "outputs": [],
   "source": [
    "columns = list(S0101_data.columns)"
   ]
  },
  {
   "cell_type": "code",
   "execution_count": 48,
   "metadata": {},
   "outputs": [],
   "source": [
    "columns = ['S0101_C01_001E',\n",
    "    'S0101_C01_021E',\n",
    "    'S0101_C01_023E',\n",
    "    'S0101_C01_007E',\n",
    "    'S0101_C01_008E',\n",
    "    'S0101_C01_009E',\n",
    "    'S0101_C01_010E',\n",
    "    'S0101_C01_011E',\n",
    "    'S0101_C01_012E',\n",
    "    'S0101_C01_013E',\n",
    "    'S0101_C01_014E', \n",
    "    'S0101_C01_030E',\n",
    "    'S0101_C03_001E',\n",
    "    'S0101_C05_001E']"
   ]
  },
  {
   "cell_type": "code",
   "execution_count": 49,
   "metadata": {},
   "outputs": [],
   "source": [
    "S0101_data = S0101_data[columns]"
   ]
  },
  {
   "cell_type": "code",
   "execution_count": 50,
   "metadata": {},
   "outputs": [
    {
     "data": {
      "text/html": [
       "<div>\n",
       "<style scoped>\n",
       "    .dataframe tbody tr th:only-of-type {\n",
       "        vertical-align: middle;\n",
       "    }\n",
       "\n",
       "    .dataframe tbody tr th {\n",
       "        vertical-align: top;\n",
       "    }\n",
       "\n",
       "    .dataframe thead th {\n",
       "        text-align: right;\n",
       "    }\n",
       "</style>\n",
       "<table border=\"1\" class=\"dataframe\">\n",
       "  <thead>\n",
       "    <tr style=\"text-align: right;\">\n",
       "      <th></th>\n",
       "      <th>S0101_C01_001E</th>\n",
       "      <th>S0101_C01_021E</th>\n",
       "      <th>S0101_C01_023E</th>\n",
       "      <th>S0101_C01_007E</th>\n",
       "      <th>S0101_C01_008E</th>\n",
       "      <th>S0101_C01_009E</th>\n",
       "      <th>S0101_C01_010E</th>\n",
       "      <th>S0101_C01_011E</th>\n",
       "      <th>S0101_C01_012E</th>\n",
       "      <th>S0101_C01_013E</th>\n",
       "      <th>S0101_C01_014E</th>\n",
       "      <th>S0101_C01_030E</th>\n",
       "      <th>S0101_C03_001E</th>\n",
       "      <th>S0101_C05_001E</th>\n",
       "    </tr>\n",
       "  </thead>\n",
       "  <tbody>\n",
       "    <tr>\n",
       "      <th>0</th>\n",
       "      <td>4844</td>\n",
       "      <td>250</td>\n",
       "      <td>205</td>\n",
       "      <td>252</td>\n",
       "      <td>197</td>\n",
       "      <td>335</td>\n",
       "      <td>163</td>\n",
       "      <td>312</td>\n",
       "      <td>447</td>\n",
       "      <td>318</td>\n",
       "      <td>318</td>\n",
       "      <td>1057</td>\n",
       "      <td>2486</td>\n",
       "      <td>2358</td>\n",
       "    </tr>\n",
       "    <tr>\n",
       "      <th>1</th>\n",
       "      <td>4838</td>\n",
       "      <td>0</td>\n",
       "      <td>634</td>\n",
       "      <td>843</td>\n",
       "      <td>907</td>\n",
       "      <td>753</td>\n",
       "      <td>444</td>\n",
       "      <td>419</td>\n",
       "      <td>314</td>\n",
       "      <td>223</td>\n",
       "      <td>73</td>\n",
       "      <td>84</td>\n",
       "      <td>4658</td>\n",
       "      <td>180</td>\n",
       "    </tr>\n",
       "  </tbody>\n",
       "</table>\n",
       "</div>"
      ],
      "text/plain": [
       "  S0101_C01_001E S0101_C01_021E S0101_C01_023E S0101_C01_007E S0101_C01_008E S0101_C01_009E S0101_C01_010E S0101_C01_011E S0101_C01_012E S0101_C01_013E S0101_C01_014E S0101_C01_030E S0101_C03_001E S0101_C05_001E\n",
       "0           4844            250            205            252            197            335            163            312            447            318            318           1057           2486           2358\n",
       "1           4838              0            634            843            907            753            444            419            314            223             73             84           4658            180"
      ]
     },
     "execution_count": 50,
     "metadata": {},
     "output_type": "execute_result"
    }
   ],
   "source": [
    "S0101_data.head(2)"
   ]
  },
  {
   "cell_type": "code",
   "execution_count": null,
   "metadata": {},
   "outputs": [],
   "source": [
    "S0101_data.iloc"
   ]
  },
  {
   "cell_type": "code",
   "execution_count": 43,
   "metadata": {},
   "outputs": [],
   "source": [
    "new_bins = ['total_pop', '15_17', '18_24', '25_29', '30_34', '35_49', '50_64', '65+', 'male', 'female']"
   ]
  },
  {
   "cell_type": "code",
   "execution_count": 51,
   "metadata": {},
   "outputs": [
    {
     "name": "stdout",
     "output_type": "stream",
     "text": [
      "Estimate!!Total!!Total population\n",
      "Estimate!!Total!!Total population!!SELECTED AGE CATEGORIES!!15 to 17 years\n",
      "Estimate!!Total!!Total population!!SELECTED AGE CATEGORIES!!18 to 24 years\n",
      "Estimate!!Total!!Total population!!AGE!!25 to 29 years\n",
      "Estimate!!Total!!Total population!!AGE!!30 to 34 years\n",
      "Estimate!!Total!!Total population!!AGE!!35 to 39 years\n",
      "Estimate!!Total!!Total population!!AGE!!40 to 44 years\n",
      "Estimate!!Total!!Total population!!AGE!!45 to 49 years\n",
      "Estimate!!Total!!Total population!!AGE!!50 to 54 years\n",
      "Estimate!!Total!!Total population!!AGE!!55 to 59 years\n",
      "Estimate!!Total!!Total population!!AGE!!60 to 64 years\n",
      "Estimate!!Total!!Total population!!SELECTED AGE CATEGORIES!!65 years and over\n",
      "Estimate!!Male!!Total population\n",
      "Estimate!!Female!!Total population\n"
     ]
    }
   ],
   "source": [
    "for i in S0101_data.columns:\n",
    "    print(column_dictionary[i])"
   ]
  },
  {
   "cell_type": "code",
   "execution_count": 74,
   "metadata": {},
   "outputs": [],
   "source": [
    "S0101_data_copy = S0101_data.copy()"
   ]
  },
  {
   "cell_type": "code",
   "execution_count": 75,
   "metadata": {},
   "outputs": [],
   "source": [
    "def collapse_columns_into_one(df, cols: list[int], target: int, drops=None):\n",
    "    df[target] = df[cols].sum(axis=1)\n",
    "    if drops is None:        \n",
    "        cols.pop(cols.index(target))\n",
    "        df.drop(index = cols, axis=1, inplace=True)\n",
    "    else:\n",
    "        df.drop(index = drops, axis=1, inplace=True)\n",
    "    return df    "
   ]
  },
  {
   "cell_type": "code",
   "execution_count": 76,
   "metadata": {},
   "outputs": [
    {
     "ename": "KeyError",
     "evalue": "\"None of [Int64Index([5, 6, 7], dtype='int64')] are in the [columns]\"",
     "output_type": "error",
     "traceback": [
      "\u001b[0;31m---------------------------------------------------------------------------\u001b[0m",
      "\u001b[0;31mKeyError\u001b[0m                                  Traceback (most recent call last)",
      "\u001b[0;32m<ipython-input-76-fda06f4cf0c3>\u001b[0m in \u001b[0;36m<module>\u001b[0;34m\u001b[0m\n\u001b[0;32m----> 1\u001b[0;31m \u001b[0mtemp\u001b[0m \u001b[0;34m=\u001b[0m  \u001b[0mcollapse_columns_into_one\u001b[0m\u001b[0;34m(\u001b[0m\u001b[0mS0101_data_copy\u001b[0m\u001b[0;34m,\u001b[0m \u001b[0;34m[\u001b[0m\u001b[0;36m5\u001b[0m\u001b[0;34m,\u001b[0m\u001b[0;36m6\u001b[0m\u001b[0;34m,\u001b[0m\u001b[0;36m7\u001b[0m\u001b[0;34m]\u001b[0m\u001b[0;34m,\u001b[0m \u001b[0;36m5\u001b[0m\u001b[0;34m)\u001b[0m\u001b[0;34m\u001b[0m\u001b[0;34m\u001b[0m\u001b[0m\n\u001b[0m",
      "\u001b[0;32m<ipython-input-75-280a97a7e025>\u001b[0m in \u001b[0;36mcollapse_columns_into_one\u001b[0;34m(df, cols, target, drops)\u001b[0m\n\u001b[1;32m      1\u001b[0m \u001b[0;32mdef\u001b[0m \u001b[0mcollapse_columns_into_one\u001b[0m\u001b[0;34m(\u001b[0m\u001b[0mdf\u001b[0m\u001b[0;34m,\u001b[0m \u001b[0mcols\u001b[0m\u001b[0;34m:\u001b[0m \u001b[0mlist\u001b[0m\u001b[0;34m[\u001b[0m\u001b[0mint\u001b[0m\u001b[0;34m]\u001b[0m\u001b[0;34m,\u001b[0m \u001b[0mtarget\u001b[0m\u001b[0;34m:\u001b[0m \u001b[0mint\u001b[0m\u001b[0;34m,\u001b[0m \u001b[0mdrops\u001b[0m\u001b[0;34m=\u001b[0m\u001b[0;32mNone\u001b[0m\u001b[0;34m)\u001b[0m\u001b[0;34m:\u001b[0m\u001b[0;34m\u001b[0m\u001b[0;34m\u001b[0m\u001b[0m\n\u001b[0;32m----> 2\u001b[0;31m     \u001b[0mdf\u001b[0m\u001b[0;34m[\u001b[0m\u001b[0mtarget\u001b[0m\u001b[0;34m]\u001b[0m \u001b[0;34m=\u001b[0m \u001b[0mdf\u001b[0m\u001b[0;34m[\u001b[0m\u001b[0mcols\u001b[0m\u001b[0;34m]\u001b[0m\u001b[0;34m.\u001b[0m\u001b[0msum\u001b[0m\u001b[0;34m(\u001b[0m\u001b[0maxis\u001b[0m\u001b[0;34m=\u001b[0m\u001b[0;36m1\u001b[0m\u001b[0;34m)\u001b[0m\u001b[0;34m\u001b[0m\u001b[0;34m\u001b[0m\u001b[0m\n\u001b[0m\u001b[1;32m      3\u001b[0m     \u001b[0;32mif\u001b[0m \u001b[0mdrops\u001b[0m \u001b[0;32mis\u001b[0m \u001b[0;32mNone\u001b[0m\u001b[0;34m:\u001b[0m\u001b[0;34m\u001b[0m\u001b[0;34m\u001b[0m\u001b[0m\n\u001b[1;32m      4\u001b[0m         \u001b[0mcols\u001b[0m\u001b[0;34m.\u001b[0m\u001b[0mpop\u001b[0m\u001b[0;34m(\u001b[0m\u001b[0mcols\u001b[0m\u001b[0;34m.\u001b[0m\u001b[0mindex\u001b[0m\u001b[0;34m(\u001b[0m\u001b[0mtarget\u001b[0m\u001b[0;34m)\u001b[0m\u001b[0;34m)\u001b[0m\u001b[0;34m\u001b[0m\u001b[0;34m\u001b[0m\u001b[0m\n\u001b[1;32m      5\u001b[0m         \u001b[0mdf\u001b[0m\u001b[0;34m.\u001b[0m\u001b[0mdrop\u001b[0m\u001b[0;34m(\u001b[0m\u001b[0mindex\u001b[0m \u001b[0;34m=\u001b[0m \u001b[0mcols\u001b[0m\u001b[0;34m,\u001b[0m \u001b[0maxis\u001b[0m\u001b[0;34m=\u001b[0m\u001b[0;36m1\u001b[0m\u001b[0;34m,\u001b[0m \u001b[0minplace\u001b[0m\u001b[0;34m=\u001b[0m\u001b[0;32mTrue\u001b[0m\u001b[0;34m)\u001b[0m\u001b[0;34m\u001b[0m\u001b[0;34m\u001b[0m\u001b[0m\n",
      "\u001b[0;32m~/miniconda3/envs/LoopDashboard/lib/python3.9/site-packages/pandas/core/frame.py\u001b[0m in \u001b[0;36m__getitem__\u001b[0;34m(self, key)\u001b[0m\n\u001b[1;32m   3028\u001b[0m             \u001b[0;32mif\u001b[0m \u001b[0mis_iterator\u001b[0m\u001b[0;34m(\u001b[0m\u001b[0mkey\u001b[0m\u001b[0;34m)\u001b[0m\u001b[0;34m:\u001b[0m\u001b[0;34m\u001b[0m\u001b[0;34m\u001b[0m\u001b[0m\n\u001b[1;32m   3029\u001b[0m                 \u001b[0mkey\u001b[0m \u001b[0;34m=\u001b[0m \u001b[0mlist\u001b[0m\u001b[0;34m(\u001b[0m\u001b[0mkey\u001b[0m\u001b[0;34m)\u001b[0m\u001b[0;34m\u001b[0m\u001b[0;34m\u001b[0m\u001b[0m\n\u001b[0;32m-> 3030\u001b[0;31m             \u001b[0mindexer\u001b[0m \u001b[0;34m=\u001b[0m \u001b[0mself\u001b[0m\u001b[0;34m.\u001b[0m\u001b[0mloc\u001b[0m\u001b[0;34m.\u001b[0m\u001b[0m_get_listlike_indexer\u001b[0m\u001b[0;34m(\u001b[0m\u001b[0mkey\u001b[0m\u001b[0;34m,\u001b[0m \u001b[0maxis\u001b[0m\u001b[0;34m=\u001b[0m\u001b[0;36m1\u001b[0m\u001b[0;34m,\u001b[0m \u001b[0mraise_missing\u001b[0m\u001b[0;34m=\u001b[0m\u001b[0;32mTrue\u001b[0m\u001b[0;34m)\u001b[0m\u001b[0;34m[\u001b[0m\u001b[0;36m1\u001b[0m\u001b[0;34m]\u001b[0m\u001b[0;34m\u001b[0m\u001b[0;34m\u001b[0m\u001b[0m\n\u001b[0m\u001b[1;32m   3031\u001b[0m \u001b[0;34m\u001b[0m\u001b[0m\n\u001b[1;32m   3032\u001b[0m         \u001b[0;31m# take() does not accept boolean indexers\u001b[0m\u001b[0;34m\u001b[0m\u001b[0;34m\u001b[0m\u001b[0;34m\u001b[0m\u001b[0m\n",
      "\u001b[0;32m~/miniconda3/envs/LoopDashboard/lib/python3.9/site-packages/pandas/core/indexing.py\u001b[0m in \u001b[0;36m_get_listlike_indexer\u001b[0;34m(self, key, axis, raise_missing)\u001b[0m\n\u001b[1;32m   1263\u001b[0m             \u001b[0mkeyarr\u001b[0m\u001b[0;34m,\u001b[0m \u001b[0mindexer\u001b[0m\u001b[0;34m,\u001b[0m \u001b[0mnew_indexer\u001b[0m \u001b[0;34m=\u001b[0m \u001b[0max\u001b[0m\u001b[0;34m.\u001b[0m\u001b[0m_reindex_non_unique\u001b[0m\u001b[0;34m(\u001b[0m\u001b[0mkeyarr\u001b[0m\u001b[0;34m)\u001b[0m\u001b[0;34m\u001b[0m\u001b[0;34m\u001b[0m\u001b[0m\n\u001b[1;32m   1264\u001b[0m \u001b[0;34m\u001b[0m\u001b[0m\n\u001b[0;32m-> 1265\u001b[0;31m         \u001b[0mself\u001b[0m\u001b[0;34m.\u001b[0m\u001b[0m_validate_read_indexer\u001b[0m\u001b[0;34m(\u001b[0m\u001b[0mkeyarr\u001b[0m\u001b[0;34m,\u001b[0m \u001b[0mindexer\u001b[0m\u001b[0;34m,\u001b[0m \u001b[0maxis\u001b[0m\u001b[0;34m,\u001b[0m \u001b[0mraise_missing\u001b[0m\u001b[0;34m=\u001b[0m\u001b[0mraise_missing\u001b[0m\u001b[0;34m)\u001b[0m\u001b[0;34m\u001b[0m\u001b[0;34m\u001b[0m\u001b[0m\n\u001b[0m\u001b[1;32m   1266\u001b[0m         \u001b[0;32mreturn\u001b[0m \u001b[0mkeyarr\u001b[0m\u001b[0;34m,\u001b[0m \u001b[0mindexer\u001b[0m\u001b[0;34m\u001b[0m\u001b[0;34m\u001b[0m\u001b[0m\n\u001b[1;32m   1267\u001b[0m \u001b[0;34m\u001b[0m\u001b[0m\n",
      "\u001b[0;32m~/miniconda3/envs/LoopDashboard/lib/python3.9/site-packages/pandas/core/indexing.py\u001b[0m in \u001b[0;36m_validate_read_indexer\u001b[0;34m(self, key, indexer, axis, raise_missing)\u001b[0m\n\u001b[1;32m   1305\u001b[0m             \u001b[0;32mif\u001b[0m \u001b[0mmissing\u001b[0m \u001b[0;34m==\u001b[0m \u001b[0mlen\u001b[0m\u001b[0;34m(\u001b[0m\u001b[0mindexer\u001b[0m\u001b[0;34m)\u001b[0m\u001b[0;34m:\u001b[0m\u001b[0;34m\u001b[0m\u001b[0;34m\u001b[0m\u001b[0m\n\u001b[1;32m   1306\u001b[0m                 \u001b[0maxis_name\u001b[0m \u001b[0;34m=\u001b[0m \u001b[0mself\u001b[0m\u001b[0;34m.\u001b[0m\u001b[0mobj\u001b[0m\u001b[0;34m.\u001b[0m\u001b[0m_get_axis_name\u001b[0m\u001b[0;34m(\u001b[0m\u001b[0maxis\u001b[0m\u001b[0;34m)\u001b[0m\u001b[0;34m\u001b[0m\u001b[0;34m\u001b[0m\u001b[0m\n\u001b[0;32m-> 1307\u001b[0;31m                 \u001b[0;32mraise\u001b[0m \u001b[0mKeyError\u001b[0m\u001b[0;34m(\u001b[0m\u001b[0;34mf\"None of [{key}] are in the [{axis_name}]\"\u001b[0m\u001b[0;34m)\u001b[0m\u001b[0;34m\u001b[0m\u001b[0;34m\u001b[0m\u001b[0m\n\u001b[0m\u001b[1;32m   1308\u001b[0m \u001b[0;34m\u001b[0m\u001b[0m\n\u001b[1;32m   1309\u001b[0m             \u001b[0max\u001b[0m \u001b[0;34m=\u001b[0m \u001b[0mself\u001b[0m\u001b[0;34m.\u001b[0m\u001b[0mobj\u001b[0m\u001b[0;34m.\u001b[0m\u001b[0m_get_axis\u001b[0m\u001b[0;34m(\u001b[0m\u001b[0maxis\u001b[0m\u001b[0;34m)\u001b[0m\u001b[0;34m\u001b[0m\u001b[0;34m\u001b[0m\u001b[0m\n",
      "\u001b[0;31mKeyError\u001b[0m: \"None of [Int64Index([5, 6, 7], dtype='int64')] are in the [columns]\""
     ]
    }
   ],
   "source": [
    "temp =  collapse_columns_into_one(S0101_data_copy, [5,6,7], 5)"
   ]
  },
  {
   "cell_type": "code",
   "execution_count": 63,
   "metadata": {},
   "outputs": [],
   "source": [
    "hehe = [5,6,7]"
   ]
  },
  {
   "cell_type": "code",
   "execution_count": 67,
   "metadata": {},
   "outputs": [
    {
     "data": {
      "text/plain": [
       "5"
      ]
     },
     "execution_count": 67,
     "metadata": {},
     "output_type": "execute_result"
    }
   ],
   "source": [
    "hehe.pop(hehe.index(5))"
   ]
  },
  {
   "cell_type": "code",
   "execution_count": 68,
   "metadata": {},
   "outputs": [
    {
     "data": {
      "text/plain": [
       "[6, 7]"
      ]
     },
     "execution_count": 68,
     "metadata": {},
     "output_type": "execute_result"
    }
   ],
   "source": [
    "hehe"
   ]
  },
  {
   "cell_type": "code",
   "execution_count": null,
   "metadata": {},
   "outputs": [],
   "source": []
  }
 ],
 "metadata": {
  "kernelspec": {
   "display_name": "Python [conda env:LoopDashboard]",
   "language": "python",
   "name": "conda-env-LoopDashboard-py"
  },
  "language_info": {
   "codemirror_mode": {
    "name": "ipython",
    "version": 3
   },
   "file_extension": ".py",
   "mimetype": "text/x-python",
   "name": "python",
   "nbconvert_exporter": "python",
   "pygments_lexer": "ipython3",
   "version": "3.9.1"
  }
 },
 "nbformat": 4,
 "nbformat_minor": 4
}
