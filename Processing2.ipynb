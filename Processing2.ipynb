{
 "cells": [
  {
   "cell_type": "code",
   "execution_count": 1,
   "metadata": {},
   "outputs": [],
   "source": [
    "import os\n",
    "import numpy as np\n",
    "import pandas as pd\n",
    "pd.set_option('display.max_colwidth', None)"
   ]
  },
  {
   "cell_type": "markdown",
   "metadata": {},
   "source": [
    "### First table is S0101 - Age and Sex"
   ]
  },
  {
   "cell_type": "code",
   "execution_count": 2,
   "metadata": {},
   "outputs": [],
   "source": [
    "# path to the S0101 subject table\n",
    "data_dir = 'data/subject_tables/unzipped_files/ACSST5Y2019.S0101_2021-01-12T120250'"
   ]
  },
  {
   "cell_type": "code",
   "execution_count": 3,
   "metadata": {},
   "outputs": [],
   "source": [
    "S0101_data = pd.read_csv(os.path.join(data_dir, 'ACSST5Y2019.S0101_data_with_overlays_2021-01-08T174020.csv'), low_memory=False)\n",
    "S0101_metadata = pd.read_csv(os.path.join(data_dir, 'ACSST5Y2019.S0101_metadata_2021-01-08T174020.csv'))"
   ]
  },
  {
   "cell_type": "code",
   "execution_count": 4,
   "metadata": {},
   "outputs": [
    {
     "name": "stdout",
     "output_type": "stream",
     "text": [
      "Shape of data table proper is (5266, 458) \n",
      "Shape of metadata table is (457, 2)\n"
     ]
    }
   ],
   "source": [
    "print(f'Shape of data table proper is {S0101_data.shape} \\n'\n",
    "    + f'Shape of metadata table is {S0101_metadata.shape}')"
   ]
  },
  {
   "cell_type": "code",
   "execution_count": 5,
   "metadata": {},
   "outputs": [
    {
     "data": {
      "text/html": [
       "<div>\n",
       "<style scoped>\n",
       "    .dataframe tbody tr th:only-of-type {\n",
       "        vertical-align: middle;\n",
       "    }\n",
       "\n",
       "    .dataframe tbody tr th {\n",
       "        vertical-align: top;\n",
       "    }\n",
       "\n",
       "    .dataframe thead th {\n",
       "        text-align: right;\n",
       "    }\n",
       "</style>\n",
       "<table border=\"1\" class=\"dataframe\">\n",
       "  <thead>\n",
       "    <tr style=\"text-align: right;\">\n",
       "      <th></th>\n",
       "      <th>GEO_ID</th>\n",
       "      <th>NAME</th>\n",
       "      <th>S0101_C01_001E</th>\n",
       "      <th>S0101_C01_001M</th>\n",
       "      <th>S0101_C01_002E</th>\n",
       "      <th>S0101_C01_002M</th>\n",
       "      <th>S0101_C01_003E</th>\n",
       "      <th>S0101_C01_003M</th>\n",
       "      <th>S0101_C01_004E</th>\n",
       "      <th>S0101_C01_004M</th>\n",
       "      <th>...</th>\n",
       "      <th>S0101_C06_034E</th>\n",
       "      <th>S0101_C06_034M</th>\n",
       "      <th>S0101_C06_035E</th>\n",
       "      <th>S0101_C06_035M</th>\n",
       "      <th>S0101_C06_036E</th>\n",
       "      <th>S0101_C06_036M</th>\n",
       "      <th>S0101_C06_037E</th>\n",
       "      <th>S0101_C06_037M</th>\n",
       "      <th>S0101_C06_038E</th>\n",
       "      <th>S0101_C06_038M</th>\n",
       "    </tr>\n",
       "  </thead>\n",
       "  <tbody>\n",
       "    <tr>\n",
       "      <th>0</th>\n",
       "      <td>id</td>\n",
       "      <td>Geographic Area Name</td>\n",
       "      <td>Estimate!!Total!!Total population</td>\n",
       "      <td>Margin of Error!!Total!!Total population</td>\n",
       "      <td>Estimate!!Total!!Total population!!AGE!!Under 5 years</td>\n",
       "      <td>Margin of Error!!Total!!Total population!!AGE!!Under 5 years</td>\n",
       "      <td>Estimate!!Total!!Total population!!AGE!!5 to 9 years</td>\n",
       "      <td>Margin of Error!!Total!!Total population!!AGE!!5 to 9 years</td>\n",
       "      <td>Estimate!!Total!!Total population!!AGE!!10 to 14 years</td>\n",
       "      <td>Margin of Error!!Total!!Total population!!AGE!!10 to 14 years</td>\n",
       "      <td>...</td>\n",
       "      <td>Estimate!!Percent Female!!Total population!!SUMMARY INDICATORS!!Age dependency ratio</td>\n",
       "      <td>Margin of Error!!Percent Female!!Total population!!SUMMARY INDICATORS!!Age dependency ratio</td>\n",
       "      <td>Estimate!!Percent Female!!Total population!!SUMMARY INDICATORS!!Old-age dependency ratio</td>\n",
       "      <td>Margin of Error!!Percent Female!!Total population!!SUMMARY INDICATORS!!Old-age dependency ratio</td>\n",
       "      <td>Estimate!!Percent Female!!Total population!!SUMMARY INDICATORS!!Child dependency ratio</td>\n",
       "      <td>Margin of Error!!Percent Female!!Total population!!SUMMARY INDICATORS!!Child dependency ratio</td>\n",
       "      <td>Estimate!!Percent Female!!Total population!!PERCENT ALLOCATED!!Sex</td>\n",
       "      <td>Margin of Error!!Percent Female!!Total population!!PERCENT ALLOCATED!!Sex</td>\n",
       "      <td>Estimate!!Percent Female!!Total population!!PERCENT ALLOCATED!!Age</td>\n",
       "      <td>Margin of Error!!Percent Female!!Total population!!PERCENT ALLOCATED!!Age</td>\n",
       "    </tr>\n",
       "    <tr>\n",
       "      <th>1</th>\n",
       "      <td>1400000US48001950100</td>\n",
       "      <td>Census Tract 9501, Anderson County, Texas</td>\n",
       "      <td>4844</td>\n",
       "      <td>524</td>\n",
       "      <td>349</td>\n",
       "      <td>131</td>\n",
       "      <td>269</td>\n",
       "      <td>119</td>\n",
       "      <td>372</td>\n",
       "      <td>137</td>\n",
       "      <td>...</td>\n",
       "      <td>(X)</td>\n",
       "      <td>(X)</td>\n",
       "      <td>(X)</td>\n",
       "      <td>(X)</td>\n",
       "      <td>(X)</td>\n",
       "      <td>(X)</td>\n",
       "      <td>(X)</td>\n",
       "      <td>(X)</td>\n",
       "      <td>(X)</td>\n",
       "      <td>(X)</td>\n",
       "    </tr>\n",
       "  </tbody>\n",
       "</table>\n",
       "<p>2 rows × 458 columns</p>\n",
       "</div>"
      ],
      "text/plain": [
       "                 GEO_ID                                       NAME  \\\n",
       "0                    id                       Geographic Area Name   \n",
       "1  1400000US48001950100  Census Tract 9501, Anderson County, Texas   \n",
       "\n",
       "                      S0101_C01_001E  \\\n",
       "0  Estimate!!Total!!Total population   \n",
       "1                               4844   \n",
       "\n",
       "                             S0101_C01_001M  \\\n",
       "0  Margin of Error!!Total!!Total population   \n",
       "1                                       524   \n",
       "\n",
       "                                          S0101_C01_002E  \\\n",
       "0  Estimate!!Total!!Total population!!AGE!!Under 5 years   \n",
       "1                                                    349   \n",
       "\n",
       "                                                 S0101_C01_002M  \\\n",
       "0  Margin of Error!!Total!!Total population!!AGE!!Under 5 years   \n",
       "1                                                           131   \n",
       "\n",
       "                                         S0101_C01_003E  \\\n",
       "0  Estimate!!Total!!Total population!!AGE!!5 to 9 years   \n",
       "1                                                   269   \n",
       "\n",
       "                                                S0101_C01_003M  \\\n",
       "0  Margin of Error!!Total!!Total population!!AGE!!5 to 9 years   \n",
       "1                                                          119   \n",
       "\n",
       "                                           S0101_C01_004E  \\\n",
       "0  Estimate!!Total!!Total population!!AGE!!10 to 14 years   \n",
       "1                                                     372   \n",
       "\n",
       "                                                  S0101_C01_004M  ...  \\\n",
       "0  Margin of Error!!Total!!Total population!!AGE!!10 to 14 years  ...   \n",
       "1                                                            137  ...   \n",
       "\n",
       "                                                                         S0101_C06_034E  \\\n",
       "0  Estimate!!Percent Female!!Total population!!SUMMARY INDICATORS!!Age dependency ratio   \n",
       "1                                                                                   (X)   \n",
       "\n",
       "                                                                                S0101_C06_034M  \\\n",
       "0  Margin of Error!!Percent Female!!Total population!!SUMMARY INDICATORS!!Age dependency ratio   \n",
       "1                                                                                          (X)   \n",
       "\n",
       "                                                                             S0101_C06_035E  \\\n",
       "0  Estimate!!Percent Female!!Total population!!SUMMARY INDICATORS!!Old-age dependency ratio   \n",
       "1                                                                                       (X)   \n",
       "\n",
       "                                                                                    S0101_C06_035M  \\\n",
       "0  Margin of Error!!Percent Female!!Total population!!SUMMARY INDICATORS!!Old-age dependency ratio   \n",
       "1                                                                                              (X)   \n",
       "\n",
       "                                                                           S0101_C06_036E  \\\n",
       "0  Estimate!!Percent Female!!Total population!!SUMMARY INDICATORS!!Child dependency ratio   \n",
       "1                                                                                     (X)   \n",
       "\n",
       "                                                                                  S0101_C06_036M  \\\n",
       "0  Margin of Error!!Percent Female!!Total population!!SUMMARY INDICATORS!!Child dependency ratio   \n",
       "1                                                                                            (X)   \n",
       "\n",
       "                                                       S0101_C06_037E  \\\n",
       "0  Estimate!!Percent Female!!Total population!!PERCENT ALLOCATED!!Sex   \n",
       "1                                                                 (X)   \n",
       "\n",
       "                                                              S0101_C06_037M  \\\n",
       "0  Margin of Error!!Percent Female!!Total population!!PERCENT ALLOCATED!!Sex   \n",
       "1                                                                        (X)   \n",
       "\n",
       "                                                       S0101_C06_038E  \\\n",
       "0  Estimate!!Percent Female!!Total population!!PERCENT ALLOCATED!!Age   \n",
       "1                                                                 (X)   \n",
       "\n",
       "                                                              S0101_C06_038M  \n",
       "0  Margin of Error!!Percent Female!!Total population!!PERCENT ALLOCATED!!Age  \n",
       "1                                                                        (X)  \n",
       "\n",
       "[2 rows x 458 columns]"
      ]
     },
     "execution_count": 5,
     "metadata": {},
     "output_type": "execute_result"
    }
   ],
   "source": [
    "S0101_data.head(2)"
   ]
  },
  {
   "cell_type": "code",
   "execution_count": 6,
   "metadata": {},
   "outputs": [
    {
     "data": {
      "text/html": [
       "<div>\n",
       "<style scoped>\n",
       "    .dataframe tbody tr th:only-of-type {\n",
       "        vertical-align: middle;\n",
       "    }\n",
       "\n",
       "    .dataframe tbody tr th {\n",
       "        vertical-align: top;\n",
       "    }\n",
       "\n",
       "    .dataframe thead th {\n",
       "        text-align: right;\n",
       "    }\n",
       "</style>\n",
       "<table border=\"1\" class=\"dataframe\">\n",
       "  <thead>\n",
       "    <tr style=\"text-align: right;\">\n",
       "      <th></th>\n",
       "      <th>GEO_ID</th>\n",
       "      <th>id</th>\n",
       "    </tr>\n",
       "  </thead>\n",
       "  <tbody>\n",
       "    <tr>\n",
       "      <th>0</th>\n",
       "      <td>NAME</td>\n",
       "      <td>Geographic Area Name</td>\n",
       "    </tr>\n",
       "    <tr>\n",
       "      <th>1</th>\n",
       "      <td>S0101_C01_001E</td>\n",
       "      <td>Estimate!!Total!!Total population</td>\n",
       "    </tr>\n",
       "  </tbody>\n",
       "</table>\n",
       "</div>"
      ],
      "text/plain": [
       "           GEO_ID                                 id\n",
       "0            NAME               Geographic Area Name\n",
       "1  S0101_C01_001E  Estimate!!Total!!Total population"
      ]
     },
     "execution_count": 6,
     "metadata": {},
     "output_type": "execute_result"
    }
   ],
   "source": [
    "S0101_metadata.head(2)"
   ]
  },
  {
   "cell_type": "code",
   "execution_count": 7,
   "metadata": {},
   "outputs": [],
   "source": [
    "# A dictionary to keep track of the original columns and the first row of df which is text explanation of column values.\n",
    "original_column_dictionary = dict(zip(S0101_data.columns, S0101_data.iloc[0,:]))"
   ]
  },
  {
   "cell_type": "markdown",
   "metadata": {},
   "source": [
    "We should break apart the GEOID field into its FIPS components for easier matching of datasets.\n",
    "\n",
    "FIPS codes are 11 digits long. 2 state digits, 3 county digits, 6 tract digits.\n",
    "\n",
    "In the GEO_ID column the FIPS code comes after the `US` characters."
   ]
  },
  {
   "cell_type": "code",
   "execution_count": 8,
   "metadata": {},
   "outputs": [],
   "source": [
    "# Breaking apart GEO_ID column into the FIPS components and creating new columns for them.\n",
    "# Split breaks the string into a list and then we specify the second part and which chars we want from that part\n",
    "# the conditional logic is because of the pesky 'id' value in row 0, we keep it for now \n",
    "S0101_data[\"STATE\"] = S0101_data.GEO_ID.apply(lambda x: x.split('US')[1][:2] if len(x) > 3 else np.nan)\n",
    "S0101_data[\"COUNTYFP\"] = S0101_data.GEO_ID.apply(lambda x: x.split('US')[1][2:5] if len(x) > 3 else np.nan)\n",
    "S0101_data[\"TRACTCE\"] = S0101_data.GEO_ID.apply(lambda x: x.split('US')[1][5:] if len(x) > 3 else np.nan)"
   ]
  },
  {
   "cell_type": "code",
   "execution_count": 9,
   "metadata": {},
   "outputs": [
    {
     "ename": "NameError",
     "evalue": "name 'err' is not defined",
     "output_type": "error",
     "traceback": [
      "\u001b[0;31m---------------------------------------------------------------------------\u001b[0m",
      "\u001b[0;31mNameError\u001b[0m                                 Traceback (most recent call last)",
      "\u001b[0;32m<ipython-input-9-8f0ccd491a61>\u001b[0m in \u001b[0;36m<module>\u001b[0;34m\u001b[0m\n\u001b[0;32m----> 1\u001b[0;31m \u001b[0mprint\u001b[0m\u001b[0;34m(\u001b[0m\u001b[0merr\u001b[0m\u001b[0;34m)\u001b[0m\u001b[0;34m\u001b[0m\u001b[0;34m\u001b[0m\u001b[0m\n\u001b[0m",
      "\u001b[0;31mNameError\u001b[0m: name 'err' is not defined"
     ]
    }
   ],
   "source": [
    "print(err)"
   ]
  },
  {
   "cell_type": "markdown",
   "metadata": {},
   "source": [
    "Note: these will have iloc indicies of 458, 459, and 460. Important to remember for later."
   ]
  },
  {
   "cell_type": "code",
   "execution_count": 10,
   "metadata": {},
   "outputs": [
    {
     "data": {
      "text/html": [
       "<div>\n",
       "<style scoped>\n",
       "    .dataframe tbody tr th:only-of-type {\n",
       "        vertical-align: middle;\n",
       "    }\n",
       "\n",
       "    .dataframe tbody tr th {\n",
       "        vertical-align: top;\n",
       "    }\n",
       "\n",
       "    .dataframe thead th {\n",
       "        text-align: right;\n",
       "    }\n",
       "</style>\n",
       "<table border=\"1\" class=\"dataframe\">\n",
       "  <thead>\n",
       "    <tr style=\"text-align: right;\">\n",
       "      <th></th>\n",
       "      <th>STATE</th>\n",
       "      <th>COUNTYFP</th>\n",
       "      <th>TRACTCE</th>\n",
       "    </tr>\n",
       "  </thead>\n",
       "  <tbody>\n",
       "    <tr>\n",
       "      <th>0</th>\n",
       "      <td>NaN</td>\n",
       "      <td>NaN</td>\n",
       "      <td>NaN</td>\n",
       "    </tr>\n",
       "    <tr>\n",
       "      <th>1</th>\n",
       "      <td>48</td>\n",
       "      <td>001</td>\n",
       "      <td>950100</td>\n",
       "    </tr>\n",
       "    <tr>\n",
       "      <th>2</th>\n",
       "      <td>48</td>\n",
       "      <td>001</td>\n",
       "      <td>950401</td>\n",
       "    </tr>\n",
       "    <tr>\n",
       "      <th>3</th>\n",
       "      <td>48</td>\n",
       "      <td>001</td>\n",
       "      <td>950402</td>\n",
       "    </tr>\n",
       "    <tr>\n",
       "      <th>4</th>\n",
       "      <td>48</td>\n",
       "      <td>001</td>\n",
       "      <td>950500</td>\n",
       "    </tr>\n",
       "  </tbody>\n",
       "</table>\n",
       "</div>"
      ],
      "text/plain": [
       "  STATE COUNTYFP TRACTCE\n",
       "0   NaN      NaN     NaN\n",
       "1    48      001  950100\n",
       "2    48      001  950401\n",
       "3    48      001  950402\n",
       "4    48      001  950500"
      ]
     },
     "execution_count": 10,
     "metadata": {},
     "output_type": "execute_result"
    }
   ],
   "source": [
    "# Visual check to make sure these are properly formatted\n",
    "S0101_data[['STATE', 'COUNTYFP', 'TRACTCE']].head(5)"
   ]
  },
  {
   "cell_type": "markdown",
   "metadata": {},
   "source": [
    "The rows in the metadata table provide a mapping to the columns in the actual data table, but there are some minor offsets\n",
    "to be made in order to make matching indices (i.e. row 1 in metadata table corresponds to column 1).\n",
    "\n",
    "If we drop the GEO_ID and NAME columns in the dataset and drop the first row of the metadataset then they will be aligned."
   ]
  },
  {
   "cell_type": "code",
   "execution_count": null,
   "metadata": {},
   "outputs": [],
   "source": [
    "S0101_data.drop(columns=['GEO_ID', 'NAME'], inplace=True)\n",
    "S0101_metadata.drop(index=0, axis=0, inplace=True)\n",
    "S0101_metadata.reset_index(drop=True, inplace=True)\n",
    "\n",
    "# Subtracting 3 to S0101_data.shape[1] to account for the our creation of 3 new columns\n",
    "assert (S0101_data.shape[1]-3 == S0101_metadata.shape[0]), print('mismatch in metadata and data correspondence')"
   ]
  },
  {
   "cell_type": "code",
   "execution_count": null,
   "metadata": {},
   "outputs": [],
   "source": [
    "int_locations = [3, *(list(range(15,30,2))), 43, 47, 61, 155, 307] # These are the rows as they appear in metadata excel sheet\n",
    "int_locations = [x-3 for x in int_locations] # Offsetting these indicies to account for drops, header and 0-index pandas scheme"
   ]
  },
  {
   "cell_type": "code",
   "execution_count": null,
   "metadata": {},
   "outputs": [],
   "source": [
    "# Checking to make sure we have specified the columns we want.\n",
    "S0101_metadata.iloc[int_locations]"
   ]
  },
  {
   "cell_type": "code",
   "execution_count": null,
   "metadata": {},
   "outputs": [],
   "source": [
    "# Creating a list of the column names we want so we can use this to filter our data set.\n",
    "wanted_columns = S0101_metadata.GEO_ID.iloc[int_locations].to_list()"
   ]
  },
  {
   "cell_type": "code",
   "execution_count": null,
   "metadata": {},
   "outputs": [],
   "source": [
    "# Need to account for the 3 columns we created by breaking up GEO_ID that have no mapping to metdata df.\n",
    "additional_columns = list(S0101_data.columns[-3:])\n",
    "wanted_columns.extend(additional_columns)"
   ]
  },
  {
   "cell_type": "code",
   "execution_count": null,
   "metadata": {},
   "outputs": [],
   "source": [
    "wanted_columns"
   ]
  },
  {
   "cell_type": "code",
   "execution_count": null,
   "metadata": {},
   "outputs": [],
   "source": [
    "S0101_data = S0101_data[wanted_columns]"
   ]
  },
  {
   "cell_type": "code",
   "execution_count": null,
   "metadata": {},
   "outputs": [],
   "source": [
    "S0101_data.head(5)"
   ]
  },
  {
   "cell_type": "code",
   "execution_count": null,
   "metadata": {},
   "outputs": [],
   "source": []
  }
 ],
 "metadata": {
  "kernelspec": {
   "display_name": "Python [conda env:LoopDashboard]",
   "language": "python",
   "name": "conda-env-LoopDashboard-py"
  },
  "language_info": {
   "codemirror_mode": {
    "name": "ipython",
    "version": 3
   },
   "file_extension": ".py",
   "mimetype": "text/x-python",
   "name": "python",
   "nbconvert_exporter": "python",
   "pygments_lexer": "ipython3",
   "version": "3.9.1"
  }
 },
 "nbformat": 4,
 "nbformat_minor": 4
}
