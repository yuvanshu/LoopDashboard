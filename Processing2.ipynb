{
 "cells": [
  {
   "cell_type": "code",
   "execution_count": 1,
   "metadata": {},
   "outputs": [],
   "source": [
    "import os\n",
    "import numpy as np\n",
    "import pandas as pd\n",
    "import geopandas as gpd\n",
    "from ld_script import *\n",
    "pd.set_option('display.max_colwidth', None)"
   ]
  },
  {
   "cell_type": "markdown",
   "metadata": {},
   "source": [
    "### First table is S0101 - Age and Sex"
   ]
  },
  {
   "cell_type": "code",
   "execution_count": 2,
   "metadata": {},
   "outputs": [],
   "source": [
    "# path to the S0101 subject table\n",
    "data_dir = 'data/subject_tables/unzipped_files/ACSST5Y2019.S0101_2021-01-12T120250'"
   ]
  },
  {
   "cell_type": "code",
   "execution_count": 3,
   "metadata": {},
   "outputs": [],
   "source": [
    "# importing a file that contains the full fips codes for texas at tract level to ensure data integrity.\n",
    "tract_checker = pd.read_csv('data/tx_tract_fips.csv')"
   ]
  },
  {
   "cell_type": "code",
   "execution_count": 4,
   "metadata": {},
   "outputs": [],
   "source": [
    "S0101_data = pd.read_csv(os.path.join(data_dir, 'ACSST5Y2019.S0101_data_with_overlays_2021-01-08T174020.csv'), low_memory=False)\n",
    "S0101_metadata = pd.read_csv(os.path.join(data_dir, 'ACSST5Y2019.S0101_metadata_2021-01-08T174020.csv'))"
   ]
  },
  {
   "cell_type": "code",
   "execution_count": 5,
   "metadata": {},
   "outputs": [
    {
     "name": "stdout",
     "output_type": "stream",
     "text": [
      "Shape of data table proper is (5266, 458) \n",
      "Shape of metadata table is (457, 2)\n"
     ]
    }
   ],
   "source": [
    "print(f'Shape of data table proper is {S0101_data.shape} \\n'\n",
    "    + f'Shape of metadata table is {S0101_metadata.shape}')"
   ]
  },
  {
   "cell_type": "code",
   "execution_count": 6,
   "metadata": {},
   "outputs": [
    {
     "data": {
      "text/html": [
       "<div>\n",
       "<style scoped>\n",
       "    .dataframe tbody tr th:only-of-type {\n",
       "        vertical-align: middle;\n",
       "    }\n",
       "\n",
       "    .dataframe tbody tr th {\n",
       "        vertical-align: top;\n",
       "    }\n",
       "\n",
       "    .dataframe thead th {\n",
       "        text-align: right;\n",
       "    }\n",
       "</style>\n",
       "<table border=\"1\" class=\"dataframe\">\n",
       "  <thead>\n",
       "    <tr style=\"text-align: right;\">\n",
       "      <th></th>\n",
       "      <th>GEO_ID</th>\n",
       "      <th>NAME</th>\n",
       "      <th>S0101_C01_001E</th>\n",
       "      <th>S0101_C01_001M</th>\n",
       "      <th>S0101_C01_002E</th>\n",
       "      <th>S0101_C01_002M</th>\n",
       "      <th>S0101_C01_003E</th>\n",
       "      <th>S0101_C01_003M</th>\n",
       "      <th>S0101_C01_004E</th>\n",
       "      <th>S0101_C01_004M</th>\n",
       "      <th>...</th>\n",
       "      <th>S0101_C06_034E</th>\n",
       "      <th>S0101_C06_034M</th>\n",
       "      <th>S0101_C06_035E</th>\n",
       "      <th>S0101_C06_035M</th>\n",
       "      <th>S0101_C06_036E</th>\n",
       "      <th>S0101_C06_036M</th>\n",
       "      <th>S0101_C06_037E</th>\n",
       "      <th>S0101_C06_037M</th>\n",
       "      <th>S0101_C06_038E</th>\n",
       "      <th>S0101_C06_038M</th>\n",
       "    </tr>\n",
       "  </thead>\n",
       "  <tbody>\n",
       "    <tr>\n",
       "      <th>0</th>\n",
       "      <td>id</td>\n",
       "      <td>Geographic Area Name</td>\n",
       "      <td>Estimate!!Total!!Total population</td>\n",
       "      <td>Margin of Error!!Total!!Total population</td>\n",
       "      <td>Estimate!!Total!!Total population!!AGE!!Under 5 years</td>\n",
       "      <td>Margin of Error!!Total!!Total population!!AGE!!Under 5 years</td>\n",
       "      <td>Estimate!!Total!!Total population!!AGE!!5 to 9 years</td>\n",
       "      <td>Margin of Error!!Total!!Total population!!AGE!!5 to 9 years</td>\n",
       "      <td>Estimate!!Total!!Total population!!AGE!!10 to 14 years</td>\n",
       "      <td>Margin of Error!!Total!!Total population!!AGE!!10 to 14 years</td>\n",
       "      <td>...</td>\n",
       "      <td>Estimate!!Percent Female!!Total population!!SUMMARY INDICATORS!!Age dependency ratio</td>\n",
       "      <td>Margin of Error!!Percent Female!!Total population!!SUMMARY INDICATORS!!Age dependency ratio</td>\n",
       "      <td>Estimate!!Percent Female!!Total population!!SUMMARY INDICATORS!!Old-age dependency ratio</td>\n",
       "      <td>Margin of Error!!Percent Female!!Total population!!SUMMARY INDICATORS!!Old-age dependency ratio</td>\n",
       "      <td>Estimate!!Percent Female!!Total population!!SUMMARY INDICATORS!!Child dependency ratio</td>\n",
       "      <td>Margin of Error!!Percent Female!!Total population!!SUMMARY INDICATORS!!Child dependency ratio</td>\n",
       "      <td>Estimate!!Percent Female!!Total population!!PERCENT ALLOCATED!!Sex</td>\n",
       "      <td>Margin of Error!!Percent Female!!Total population!!PERCENT ALLOCATED!!Sex</td>\n",
       "      <td>Estimate!!Percent Female!!Total population!!PERCENT ALLOCATED!!Age</td>\n",
       "      <td>Margin of Error!!Percent Female!!Total population!!PERCENT ALLOCATED!!Age</td>\n",
       "    </tr>\n",
       "    <tr>\n",
       "      <th>1</th>\n",
       "      <td>1400000US48001950100</td>\n",
       "      <td>Census Tract 9501, Anderson County, Texas</td>\n",
       "      <td>4844</td>\n",
       "      <td>524</td>\n",
       "      <td>349</td>\n",
       "      <td>131</td>\n",
       "      <td>269</td>\n",
       "      <td>119</td>\n",
       "      <td>372</td>\n",
       "      <td>137</td>\n",
       "      <td>...</td>\n",
       "      <td>(X)</td>\n",
       "      <td>(X)</td>\n",
       "      <td>(X)</td>\n",
       "      <td>(X)</td>\n",
       "      <td>(X)</td>\n",
       "      <td>(X)</td>\n",
       "      <td>(X)</td>\n",
       "      <td>(X)</td>\n",
       "      <td>(X)</td>\n",
       "      <td>(X)</td>\n",
       "    </tr>\n",
       "  </tbody>\n",
       "</table>\n",
       "<p>2 rows × 458 columns</p>\n",
       "</div>"
      ],
      "text/plain": [
       "                 GEO_ID                                       NAME  \\\n",
       "0                    id                       Geographic Area Name   \n",
       "1  1400000US48001950100  Census Tract 9501, Anderson County, Texas   \n",
       "\n",
       "                      S0101_C01_001E  \\\n",
       "0  Estimate!!Total!!Total population   \n",
       "1                               4844   \n",
       "\n",
       "                             S0101_C01_001M  \\\n",
       "0  Margin of Error!!Total!!Total population   \n",
       "1                                       524   \n",
       "\n",
       "                                          S0101_C01_002E  \\\n",
       "0  Estimate!!Total!!Total population!!AGE!!Under 5 years   \n",
       "1                                                    349   \n",
       "\n",
       "                                                 S0101_C01_002M  \\\n",
       "0  Margin of Error!!Total!!Total population!!AGE!!Under 5 years   \n",
       "1                                                           131   \n",
       "\n",
       "                                         S0101_C01_003E  \\\n",
       "0  Estimate!!Total!!Total population!!AGE!!5 to 9 years   \n",
       "1                                                   269   \n",
       "\n",
       "                                                S0101_C01_003M  \\\n",
       "0  Margin of Error!!Total!!Total population!!AGE!!5 to 9 years   \n",
       "1                                                          119   \n",
       "\n",
       "                                           S0101_C01_004E  \\\n",
       "0  Estimate!!Total!!Total population!!AGE!!10 to 14 years   \n",
       "1                                                     372   \n",
       "\n",
       "                                                  S0101_C01_004M  ...  \\\n",
       "0  Margin of Error!!Total!!Total population!!AGE!!10 to 14 years  ...   \n",
       "1                                                            137  ...   \n",
       "\n",
       "                                                                         S0101_C06_034E  \\\n",
       "0  Estimate!!Percent Female!!Total population!!SUMMARY INDICATORS!!Age dependency ratio   \n",
       "1                                                                                   (X)   \n",
       "\n",
       "                                                                                S0101_C06_034M  \\\n",
       "0  Margin of Error!!Percent Female!!Total population!!SUMMARY INDICATORS!!Age dependency ratio   \n",
       "1                                                                                          (X)   \n",
       "\n",
       "                                                                             S0101_C06_035E  \\\n",
       "0  Estimate!!Percent Female!!Total population!!SUMMARY INDICATORS!!Old-age dependency ratio   \n",
       "1                                                                                       (X)   \n",
       "\n",
       "                                                                                    S0101_C06_035M  \\\n",
       "0  Margin of Error!!Percent Female!!Total population!!SUMMARY INDICATORS!!Old-age dependency ratio   \n",
       "1                                                                                              (X)   \n",
       "\n",
       "                                                                           S0101_C06_036E  \\\n",
       "0  Estimate!!Percent Female!!Total population!!SUMMARY INDICATORS!!Child dependency ratio   \n",
       "1                                                                                     (X)   \n",
       "\n",
       "                                                                                  S0101_C06_036M  \\\n",
       "0  Margin of Error!!Percent Female!!Total population!!SUMMARY INDICATORS!!Child dependency ratio   \n",
       "1                                                                                            (X)   \n",
       "\n",
       "                                                       S0101_C06_037E  \\\n",
       "0  Estimate!!Percent Female!!Total population!!PERCENT ALLOCATED!!Sex   \n",
       "1                                                                 (X)   \n",
       "\n",
       "                                                              S0101_C06_037M  \\\n",
       "0  Margin of Error!!Percent Female!!Total population!!PERCENT ALLOCATED!!Sex   \n",
       "1                                                                        (X)   \n",
       "\n",
       "                                                       S0101_C06_038E  \\\n",
       "0  Estimate!!Percent Female!!Total population!!PERCENT ALLOCATED!!Age   \n",
       "1                                                                 (X)   \n",
       "\n",
       "                                                              S0101_C06_038M  \n",
       "0  Margin of Error!!Percent Female!!Total population!!PERCENT ALLOCATED!!Age  \n",
       "1                                                                        (X)  \n",
       "\n",
       "[2 rows x 458 columns]"
      ]
     },
     "execution_count": 6,
     "metadata": {},
     "output_type": "execute_result"
    }
   ],
   "source": [
    "S0101_data.head(2)"
   ]
  },
  {
   "cell_type": "code",
   "execution_count": 7,
   "metadata": {},
   "outputs": [
    {
     "data": {
      "text/html": [
       "<div>\n",
       "<style scoped>\n",
       "    .dataframe tbody tr th:only-of-type {\n",
       "        vertical-align: middle;\n",
       "    }\n",
       "\n",
       "    .dataframe tbody tr th {\n",
       "        vertical-align: top;\n",
       "    }\n",
       "\n",
       "    .dataframe thead th {\n",
       "        text-align: right;\n",
       "    }\n",
       "</style>\n",
       "<table border=\"1\" class=\"dataframe\">\n",
       "  <thead>\n",
       "    <tr style=\"text-align: right;\">\n",
       "      <th></th>\n",
       "      <th>GEO_ID</th>\n",
       "      <th>id</th>\n",
       "    </tr>\n",
       "  </thead>\n",
       "  <tbody>\n",
       "    <tr>\n",
       "      <th>0</th>\n",
       "      <td>NAME</td>\n",
       "      <td>Geographic Area Name</td>\n",
       "    </tr>\n",
       "    <tr>\n",
       "      <th>1</th>\n",
       "      <td>S0101_C01_001E</td>\n",
       "      <td>Estimate!!Total!!Total population</td>\n",
       "    </tr>\n",
       "  </tbody>\n",
       "</table>\n",
       "</div>"
      ],
      "text/plain": [
       "           GEO_ID                                 id\n",
       "0            NAME               Geographic Area Name\n",
       "1  S0101_C01_001E  Estimate!!Total!!Total population"
      ]
     },
     "execution_count": 7,
     "metadata": {},
     "output_type": "execute_result"
    }
   ],
   "source": [
    "S0101_metadata.head(2)"
   ]
  },
  {
   "cell_type": "markdown",
   "metadata": {},
   "source": [
    "We should break apart the GEOID field into its FIPS components for easier matching of datasets.\n",
    "\n",
    "FIPS codes are 11 digits long. 2 state digits, 3 county digits, 6 tract digits.\n",
    "\n",
    "In the GEO_ID column the FIPS code comes after the `US` characters."
   ]
  },
  {
   "cell_type": "code",
   "execution_count": 8,
   "metadata": {},
   "outputs": [],
   "source": [
    "# Custom function defined in ld_scripts.py in project folder to break apart GEO_ID column appropriately\n",
    "S0101_data = parse_geo_id(S0101_data)"
   ]
  },
  {
   "cell_type": "code",
   "execution_count": 9,
   "metadata": {},
   "outputs": [],
   "source": [
    "# A dictionary to keep track of the original columns and the first row of df which is text explanation of column values.\n",
    "original_column_dictionary = dict(zip(S0101_data.columns, S0101_data.iloc[0,:]))"
   ]
  },
  {
   "cell_type": "markdown",
   "metadata": {},
   "source": [
    "Note: these will have iloc indicies of 458, 459, 460, 461. Important to remember for later."
   ]
  },
  {
   "cell_type": "code",
   "execution_count": 10,
   "metadata": {},
   "outputs": [
    {
     "data": {
      "text/html": [
       "<div>\n",
       "<style scoped>\n",
       "    .dataframe tbody tr th:only-of-type {\n",
       "        vertical-align: middle;\n",
       "    }\n",
       "\n",
       "    .dataframe tbody tr th {\n",
       "        vertical-align: top;\n",
       "    }\n",
       "\n",
       "    .dataframe thead th {\n",
       "        text-align: right;\n",
       "    }\n",
       "</style>\n",
       "<table border=\"1\" class=\"dataframe\">\n",
       "  <thead>\n",
       "    <tr style=\"text-align: right;\">\n",
       "      <th></th>\n",
       "      <th>FIPS</th>\n",
       "      <th>STATEFP</th>\n",
       "      <th>COUNTYFP</th>\n",
       "      <th>TRACTCE</th>\n",
       "    </tr>\n",
       "  </thead>\n",
       "  <tbody>\n",
       "    <tr>\n",
       "      <th>0</th>\n",
       "      <td>fips</td>\n",
       "      <td>statefp</td>\n",
       "      <td>countyfp</td>\n",
       "      <td>tractce</td>\n",
       "    </tr>\n",
       "    <tr>\n",
       "      <th>1</th>\n",
       "      <td>48001950100</td>\n",
       "      <td>48</td>\n",
       "      <td>001</td>\n",
       "      <td>950100</td>\n",
       "    </tr>\n",
       "    <tr>\n",
       "      <th>2</th>\n",
       "      <td>48001950401</td>\n",
       "      <td>48</td>\n",
       "      <td>001</td>\n",
       "      <td>950401</td>\n",
       "    </tr>\n",
       "    <tr>\n",
       "      <th>3</th>\n",
       "      <td>48001950402</td>\n",
       "      <td>48</td>\n",
       "      <td>001</td>\n",
       "      <td>950402</td>\n",
       "    </tr>\n",
       "    <tr>\n",
       "      <th>4</th>\n",
       "      <td>48001950500</td>\n",
       "      <td>48</td>\n",
       "      <td>001</td>\n",
       "      <td>950500</td>\n",
       "    </tr>\n",
       "  </tbody>\n",
       "</table>\n",
       "</div>"
      ],
      "text/plain": [
       "          FIPS  STATEFP  COUNTYFP  TRACTCE\n",
       "0         fips  statefp  countyfp  tractce\n",
       "1  48001950100       48       001   950100\n",
       "2  48001950401       48       001   950401\n",
       "3  48001950402       48       001   950402\n",
       "4  48001950500       48       001   950500"
      ]
     },
     "execution_count": 10,
     "metadata": {},
     "output_type": "execute_result"
    }
   ],
   "source": [
    "# Visual check to make sure these are properly formatted\n",
    "S0101_data[['FIPS', 'STATEFP', 'COUNTYFP', 'TRACTCE']].head(5)"
   ]
  },
  {
   "cell_type": "markdown",
   "metadata": {},
   "source": [
    "The rows in the metadata table provide a mapping to the columns in the actual data table, but there are some minor offsets\n",
    "to be made in order to make matching indices (i.e. row 1 in metadata table corresponds to column 1).\n",
    "\n",
    "If we drop the GEO_ID and NAME columns in the dataset and drop the first row of the metadataset then they will be aligned."
   ]
  },
  {
   "cell_type": "code",
   "execution_count": 11,
   "metadata": {},
   "outputs": [],
   "source": [
    "S0101_data.drop(columns=['GEO_ID', 'NAME'], inplace=True)\n",
    "S0101_metadata.drop(index=0, axis=0, inplace=True)\n",
    "S0101_metadata.reset_index(drop=True, inplace=True)\n",
    "\n",
    "# Subtracting 3 to S0101_data.shape[1] to account for the our creation of 3 new columns\n",
    "assert (S0101_data.shape[1]-4 == S0101_metadata.shape[0]), print('mismatch in metadata and data correspondence')"
   ]
  },
  {
   "cell_type": "code",
   "execution_count": 12,
   "metadata": {},
   "outputs": [],
   "source": [
    "int_locations = [3, *(list(range(15,30,2))), 43, 47, 61, 155, 307] # These are the rows as they appear in metadata excel sheet\n",
    "int_locations = [x-3 for x in int_locations] # Offsetting these indicies to account for drops, header and 0-index pandas scheme"
   ]
  },
  {
   "cell_type": "code",
   "execution_count": 13,
   "metadata": {},
   "outputs": [
    {
     "data": {
      "text/html": [
       "<div>\n",
       "<style scoped>\n",
       "    .dataframe tbody tr th:only-of-type {\n",
       "        vertical-align: middle;\n",
       "    }\n",
       "\n",
       "    .dataframe tbody tr th {\n",
       "        vertical-align: top;\n",
       "    }\n",
       "\n",
       "    .dataframe thead th {\n",
       "        text-align: right;\n",
       "    }\n",
       "</style>\n",
       "<table border=\"1\" class=\"dataframe\">\n",
       "  <thead>\n",
       "    <tr style=\"text-align: right;\">\n",
       "      <th></th>\n",
       "      <th>GEO_ID</th>\n",
       "      <th>id</th>\n",
       "    </tr>\n",
       "  </thead>\n",
       "  <tbody>\n",
       "    <tr>\n",
       "      <th>0</th>\n",
       "      <td>S0101_C01_001E</td>\n",
       "      <td>Estimate!!Total!!Total population</td>\n",
       "    </tr>\n",
       "    <tr>\n",
       "      <th>12</th>\n",
       "      <td>S0101_C01_007E</td>\n",
       "      <td>Estimate!!Total!!Total population!!AGE!!25 to 29 years</td>\n",
       "    </tr>\n",
       "    <tr>\n",
       "      <th>14</th>\n",
       "      <td>S0101_C01_008E</td>\n",
       "      <td>Estimate!!Total!!Total population!!AGE!!30 to 34 years</td>\n",
       "    </tr>\n",
       "    <tr>\n",
       "      <th>16</th>\n",
       "      <td>S0101_C01_009E</td>\n",
       "      <td>Estimate!!Total!!Total population!!AGE!!35 to 39 years</td>\n",
       "    </tr>\n",
       "    <tr>\n",
       "      <th>18</th>\n",
       "      <td>S0101_C01_010E</td>\n",
       "      <td>Estimate!!Total!!Total population!!AGE!!40 to 44 years</td>\n",
       "    </tr>\n",
       "    <tr>\n",
       "      <th>20</th>\n",
       "      <td>S0101_C01_011E</td>\n",
       "      <td>Estimate!!Total!!Total population!!AGE!!45 to 49 years</td>\n",
       "    </tr>\n",
       "    <tr>\n",
       "      <th>22</th>\n",
       "      <td>S0101_C01_012E</td>\n",
       "      <td>Estimate!!Total!!Total population!!AGE!!50 to 54 years</td>\n",
       "    </tr>\n",
       "    <tr>\n",
       "      <th>24</th>\n",
       "      <td>S0101_C01_013E</td>\n",
       "      <td>Estimate!!Total!!Total population!!AGE!!55 to 59 years</td>\n",
       "    </tr>\n",
       "    <tr>\n",
       "      <th>26</th>\n",
       "      <td>S0101_C01_014E</td>\n",
       "      <td>Estimate!!Total!!Total population!!AGE!!60 to 64 years</td>\n",
       "    </tr>\n",
       "    <tr>\n",
       "      <th>40</th>\n",
       "      <td>S0101_C01_021E</td>\n",
       "      <td>Estimate!!Total!!Total population!!SELECTED AGE CATEGORIES!!15 to 17 years</td>\n",
       "    </tr>\n",
       "    <tr>\n",
       "      <th>44</th>\n",
       "      <td>S0101_C01_023E</td>\n",
       "      <td>Estimate!!Total!!Total population!!SELECTED AGE CATEGORIES!!18 to 24 years</td>\n",
       "    </tr>\n",
       "    <tr>\n",
       "      <th>58</th>\n",
       "      <td>S0101_C01_030E</td>\n",
       "      <td>Estimate!!Total!!Total population!!SELECTED AGE CATEGORIES!!65 years and over</td>\n",
       "    </tr>\n",
       "    <tr>\n",
       "      <th>152</th>\n",
       "      <td>S0101_C03_001E</td>\n",
       "      <td>Estimate!!Male!!Total population</td>\n",
       "    </tr>\n",
       "    <tr>\n",
       "      <th>304</th>\n",
       "      <td>S0101_C05_001E</td>\n",
       "      <td>Estimate!!Female!!Total population</td>\n",
       "    </tr>\n",
       "  </tbody>\n",
       "</table>\n",
       "</div>"
      ],
      "text/plain": [
       "             GEO_ID  \\\n",
       "0    S0101_C01_001E   \n",
       "12   S0101_C01_007E   \n",
       "14   S0101_C01_008E   \n",
       "16   S0101_C01_009E   \n",
       "18   S0101_C01_010E   \n",
       "20   S0101_C01_011E   \n",
       "22   S0101_C01_012E   \n",
       "24   S0101_C01_013E   \n",
       "26   S0101_C01_014E   \n",
       "40   S0101_C01_021E   \n",
       "44   S0101_C01_023E   \n",
       "58   S0101_C01_030E   \n",
       "152  S0101_C03_001E   \n",
       "304  S0101_C05_001E   \n",
       "\n",
       "                                                                                id  \n",
       "0                                                Estimate!!Total!!Total population  \n",
       "12                          Estimate!!Total!!Total population!!AGE!!25 to 29 years  \n",
       "14                          Estimate!!Total!!Total population!!AGE!!30 to 34 years  \n",
       "16                          Estimate!!Total!!Total population!!AGE!!35 to 39 years  \n",
       "18                          Estimate!!Total!!Total population!!AGE!!40 to 44 years  \n",
       "20                          Estimate!!Total!!Total population!!AGE!!45 to 49 years  \n",
       "22                          Estimate!!Total!!Total population!!AGE!!50 to 54 years  \n",
       "24                          Estimate!!Total!!Total population!!AGE!!55 to 59 years  \n",
       "26                          Estimate!!Total!!Total population!!AGE!!60 to 64 years  \n",
       "40      Estimate!!Total!!Total population!!SELECTED AGE CATEGORIES!!15 to 17 years  \n",
       "44      Estimate!!Total!!Total population!!SELECTED AGE CATEGORIES!!18 to 24 years  \n",
       "58   Estimate!!Total!!Total population!!SELECTED AGE CATEGORIES!!65 years and over  \n",
       "152                                               Estimate!!Male!!Total population  \n",
       "304                                             Estimate!!Female!!Total population  "
      ]
     },
     "execution_count": 13,
     "metadata": {},
     "output_type": "execute_result"
    }
   ],
   "source": [
    "# Checking to make sure we have specified the columns we want.\n",
    "S0101_metadata.iloc[int_locations]"
   ]
  },
  {
   "cell_type": "code",
   "execution_count": 14,
   "metadata": {},
   "outputs": [],
   "source": [
    "# Creating a list of the column names we want so we can use this to filter our data set.\n",
    "wanted_columns = S0101_metadata.GEO_ID.iloc[int_locations].to_list()"
   ]
  },
  {
   "cell_type": "code",
   "execution_count": 15,
   "metadata": {},
   "outputs": [],
   "source": [
    "# Need to account for the 3 columns we created by breaking up GEO_ID that have no mapping to metdata df.\n",
    "additional_columns = list(S0101_data.columns[-4:])\n",
    "wanted_columns.extend(additional_columns)"
   ]
  },
  {
   "cell_type": "code",
   "execution_count": 16,
   "metadata": {},
   "outputs": [
    {
     "data": {
      "text/plain": [
       "['S0101_C01_001E',\n",
       " 'S0101_C01_007E',\n",
       " 'S0101_C01_008E',\n",
       " 'S0101_C01_009E',\n",
       " 'S0101_C01_010E',\n",
       " 'S0101_C01_011E',\n",
       " 'S0101_C01_012E',\n",
       " 'S0101_C01_013E',\n",
       " 'S0101_C01_014E',\n",
       " 'S0101_C01_021E',\n",
       " 'S0101_C01_023E',\n",
       " 'S0101_C01_030E',\n",
       " 'S0101_C03_001E',\n",
       " 'S0101_C05_001E',\n",
       " 'FIPS',\n",
       " 'STATEFP',\n",
       " 'COUNTYFP',\n",
       " 'TRACTCE']"
      ]
     },
     "execution_count": 16,
     "metadata": {},
     "output_type": "execute_result"
    }
   ],
   "source": [
    "wanted_columns"
   ]
  },
  {
   "cell_type": "code",
   "execution_count": 17,
   "metadata": {},
   "outputs": [],
   "source": [
    "S0101_data = S0101_data[wanted_columns]"
   ]
  },
  {
   "cell_type": "code",
   "execution_count": 18,
   "metadata": {},
   "outputs": [
    {
     "data": {
      "text/html": [
       "<div>\n",
       "<style scoped>\n",
       "    .dataframe tbody tr th:only-of-type {\n",
       "        vertical-align: middle;\n",
       "    }\n",
       "\n",
       "    .dataframe tbody tr th {\n",
       "        vertical-align: top;\n",
       "    }\n",
       "\n",
       "    .dataframe thead th {\n",
       "        text-align: right;\n",
       "    }\n",
       "</style>\n",
       "<table border=\"1\" class=\"dataframe\">\n",
       "  <thead>\n",
       "    <tr style=\"text-align: right;\">\n",
       "      <th></th>\n",
       "      <th>S0101_C01_001E</th>\n",
       "      <th>S0101_C01_007E</th>\n",
       "      <th>S0101_C01_008E</th>\n",
       "      <th>S0101_C01_009E</th>\n",
       "      <th>S0101_C01_010E</th>\n",
       "      <th>S0101_C01_011E</th>\n",
       "      <th>S0101_C01_012E</th>\n",
       "      <th>S0101_C01_013E</th>\n",
       "      <th>S0101_C01_014E</th>\n",
       "      <th>S0101_C01_021E</th>\n",
       "      <th>S0101_C01_023E</th>\n",
       "      <th>S0101_C01_030E</th>\n",
       "      <th>S0101_C03_001E</th>\n",
       "      <th>S0101_C05_001E</th>\n",
       "      <th>FIPS</th>\n",
       "      <th>STATEFP</th>\n",
       "      <th>COUNTYFP</th>\n",
       "      <th>TRACTCE</th>\n",
       "    </tr>\n",
       "  </thead>\n",
       "  <tbody>\n",
       "    <tr>\n",
       "      <th>0</th>\n",
       "      <td>Estimate!!Total!!Total population</td>\n",
       "      <td>Estimate!!Total!!Total population!!AGE!!25 to 29 years</td>\n",
       "      <td>Estimate!!Total!!Total population!!AGE!!30 to 34 years</td>\n",
       "      <td>Estimate!!Total!!Total population!!AGE!!35 to 39 years</td>\n",
       "      <td>Estimate!!Total!!Total population!!AGE!!40 to 44 years</td>\n",
       "      <td>Estimate!!Total!!Total population!!AGE!!45 to 49 years</td>\n",
       "      <td>Estimate!!Total!!Total population!!AGE!!50 to 54 years</td>\n",
       "      <td>Estimate!!Total!!Total population!!AGE!!55 to 59 years</td>\n",
       "      <td>Estimate!!Total!!Total population!!AGE!!60 to 64 years</td>\n",
       "      <td>Estimate!!Total!!Total population!!SELECTED AGE CATEGORIES!!15 to 17 years</td>\n",
       "      <td>Estimate!!Total!!Total population!!SELECTED AGE CATEGORIES!!18 to 24 years</td>\n",
       "      <td>Estimate!!Total!!Total population!!SELECTED AGE CATEGORIES!!65 years and over</td>\n",
       "      <td>Estimate!!Male!!Total population</td>\n",
       "      <td>Estimate!!Female!!Total population</td>\n",
       "      <td>fips</td>\n",
       "      <td>statefp</td>\n",
       "      <td>countyfp</td>\n",
       "      <td>tractce</td>\n",
       "    </tr>\n",
       "    <tr>\n",
       "      <th>1</th>\n",
       "      <td>4844</td>\n",
       "      <td>252</td>\n",
       "      <td>197</td>\n",
       "      <td>335</td>\n",
       "      <td>163</td>\n",
       "      <td>312</td>\n",
       "      <td>447</td>\n",
       "      <td>318</td>\n",
       "      <td>318</td>\n",
       "      <td>250</td>\n",
       "      <td>205</td>\n",
       "      <td>1057</td>\n",
       "      <td>2486</td>\n",
       "      <td>2358</td>\n",
       "      <td>48001950100</td>\n",
       "      <td>48</td>\n",
       "      <td>001</td>\n",
       "      <td>950100</td>\n",
       "    </tr>\n",
       "    <tr>\n",
       "      <th>2</th>\n",
       "      <td>4838</td>\n",
       "      <td>843</td>\n",
       "      <td>907</td>\n",
       "      <td>753</td>\n",
       "      <td>444</td>\n",
       "      <td>419</td>\n",
       "      <td>314</td>\n",
       "      <td>223</td>\n",
       "      <td>73</td>\n",
       "      <td>0</td>\n",
       "      <td>634</td>\n",
       "      <td>84</td>\n",
       "      <td>4658</td>\n",
       "      <td>180</td>\n",
       "      <td>48001950401</td>\n",
       "      <td>48</td>\n",
       "      <td>001</td>\n",
       "      <td>950401</td>\n",
       "    </tr>\n",
       "  </tbody>\n",
       "</table>\n",
       "</div>"
      ],
      "text/plain": [
       "                      S0101_C01_001E  \\\n",
       "0  Estimate!!Total!!Total population   \n",
       "1                               4844   \n",
       "2                               4838   \n",
       "\n",
       "                                           S0101_C01_007E  \\\n",
       "0  Estimate!!Total!!Total population!!AGE!!25 to 29 years   \n",
       "1                                                     252   \n",
       "2                                                     843   \n",
       "\n",
       "                                           S0101_C01_008E  \\\n",
       "0  Estimate!!Total!!Total population!!AGE!!30 to 34 years   \n",
       "1                                                     197   \n",
       "2                                                     907   \n",
       "\n",
       "                                           S0101_C01_009E  \\\n",
       "0  Estimate!!Total!!Total population!!AGE!!35 to 39 years   \n",
       "1                                                     335   \n",
       "2                                                     753   \n",
       "\n",
       "                                           S0101_C01_010E  \\\n",
       "0  Estimate!!Total!!Total population!!AGE!!40 to 44 years   \n",
       "1                                                     163   \n",
       "2                                                     444   \n",
       "\n",
       "                                           S0101_C01_011E  \\\n",
       "0  Estimate!!Total!!Total population!!AGE!!45 to 49 years   \n",
       "1                                                     312   \n",
       "2                                                     419   \n",
       "\n",
       "                                           S0101_C01_012E  \\\n",
       "0  Estimate!!Total!!Total population!!AGE!!50 to 54 years   \n",
       "1                                                     447   \n",
       "2                                                     314   \n",
       "\n",
       "                                           S0101_C01_013E  \\\n",
       "0  Estimate!!Total!!Total population!!AGE!!55 to 59 years   \n",
       "1                                                     318   \n",
       "2                                                     223   \n",
       "\n",
       "                                           S0101_C01_014E  \\\n",
       "0  Estimate!!Total!!Total population!!AGE!!60 to 64 years   \n",
       "1                                                     318   \n",
       "2                                                      73   \n",
       "\n",
       "                                                               S0101_C01_021E  \\\n",
       "0  Estimate!!Total!!Total population!!SELECTED AGE CATEGORIES!!15 to 17 years   \n",
       "1                                                                         250   \n",
       "2                                                                           0   \n",
       "\n",
       "                                                               S0101_C01_023E  \\\n",
       "0  Estimate!!Total!!Total population!!SELECTED AGE CATEGORIES!!18 to 24 years   \n",
       "1                                                                         205   \n",
       "2                                                                         634   \n",
       "\n",
       "                                                                  S0101_C01_030E  \\\n",
       "0  Estimate!!Total!!Total population!!SELECTED AGE CATEGORIES!!65 years and over   \n",
       "1                                                                           1057   \n",
       "2                                                                             84   \n",
       "\n",
       "                     S0101_C03_001E                      S0101_C05_001E  \\\n",
       "0  Estimate!!Male!!Total population  Estimate!!Female!!Total population   \n",
       "1                              2486                                2358   \n",
       "2                              4658                                 180   \n",
       "\n",
       "          FIPS  STATEFP  COUNTYFP  TRACTCE  \n",
       "0         fips  statefp  countyfp  tractce  \n",
       "1  48001950100       48       001   950100  \n",
       "2  48001950401       48       001   950401  "
      ]
     },
     "execution_count": 18,
     "metadata": {},
     "output_type": "execute_result"
    }
   ],
   "source": [
    "S0101_data.head(3)"
   ]
  },
  {
   "cell_type": "code",
   "execution_count": 19,
   "metadata": {},
   "outputs": [],
   "source": [
    "new_column_dictionary = dict(zip(S0101_data.columns, S0101_data.iloc[0]))"
   ]
  },
  {
   "cell_type": "code",
   "execution_count": 20,
   "metadata": {},
   "outputs": [],
   "source": [
    "S0101_data.drop(index=0, axis=0, inplace=True)\n",
    "S0101_data.reset_index(drop=True, inplace=True)"
   ]
  },
  {
   "cell_type": "code",
   "execution_count": 21,
   "metadata": {},
   "outputs": [
    {
     "data": {
      "text/plain": [
       "(5265, 18)"
      ]
     },
     "execution_count": 21,
     "metadata": {},
     "output_type": "execute_result"
    }
   ],
   "source": [
    "S0101_data.shape"
   ]
  },
  {
   "cell_type": "code",
   "execution_count": null,
   "metadata": {},
   "outputs": [],
   "source": [
    "S0101_data.head(3)"
   ]
  },
  {
   "cell_type": "markdown",
   "metadata": {},
   "source": [
    "Reorder the columns and then compress the bins if necessary to align with our wanted columns."
   ]
  },
  {
   "cell_type": "code",
   "execution_count": null,
   "metadata": {},
   "outputs": [],
   "source": [
    "curr_columns = list(S0101_data.columns)"
   ]
  },
  {
   "cell_type": "code",
   "execution_count": null,
   "metadata": {},
   "outputs": [],
   "source": [
    "for i in curr_columns:\n",
    "    print(f'Column {i} is {new_column_dictionary[i]}')"
   ]
  },
  {
   "cell_type": "markdown",
   "metadata": {},
   "source": [
    "One way we might be able to automate this is by using the last two entries in the list created by splitting with `!!`.\n",
    "We can use the second to last entry as our keyword and then use the numeric characters in strings for ordering."
   ]
  },
  {
   "cell_type": "code",
   "execution_count": null,
   "metadata": {},
   "outputs": [],
   "source": [
    "# Manual reordering might be necessary here\n",
    "new_columns = ['S0101_C01_001E',\n",
    "    'S0101_C01_021E',\n",
    "    'S0101_C01_023E',\n",
    "    'S0101_C01_007E',\n",
    "    'S0101_C01_008E',\n",
    "    'S0101_C01_009E',\n",
    "    'S0101_C01_010E',\n",
    "    'S0101_C01_011E',\n",
    "    'S0101_C01_012E',\n",
    "    'S0101_C01_013E',\n",
    "    'S0101_C01_014E', \n",
    "    'S0101_C01_030E',\n",
    "    'S0101_C03_001E',\n",
    "    'S0101_C05_001E',\n",
    "    'STATE',\n",
    "    'COUNTYFP',\n",
    "    'TRACTCE']"
   ]
  },
  {
   "cell_type": "code",
   "execution_count": null,
   "metadata": {},
   "outputs": [],
   "source": [
    "# Checking to ensure we have the ordering we want.\n",
    "for n, i in enumerate(new_columns):\n",
    "    print(f'Column {n} is named {i} : {new_column_dictionary[i]}')"
   ]
  },
  {
   "cell_type": "code",
   "execution_count": null,
   "metadata": {},
   "outputs": [],
   "source": [
    "# Reorder columns using updated order\n",
    "S0101_data = S0101_data[new_columns]"
   ]
  },
  {
   "cell_type": "markdown",
   "metadata": {},
   "source": [
    "Now we need to decide which columns to merge together into age bins, since we know certain age groups \n",
    "do not need such a tight bucket and so we cut down on some features by collapsing columns together.\n",
    "\n",
    "How to rename them then? Perhaps just modifying the very last part of column name."
   ]
  },
  {
   "cell_type": "code",
   "execution_count": null,
   "metadata": {},
   "outputs": [],
   "source": [
    "Age_25_24 = S0101_data.S0101_C01_007E"
   ]
  },
  {
   "cell_type": "code",
   "execution_count": null,
   "metadata": {},
   "outputs": [],
   "source": [
    "S0101_data.head()"
   ]
  },
  {
   "cell_type": "code",
   "execution_count": null,
   "metadata": {},
   "outputs": [],
   "source": [
    "checker_series = S0101_data[['S0101_C01_007E','S0101_C01_008E']].copy()\n",
    "# checker_series.sum(axis=1)"
   ]
  },
  {
   "cell_type": "code",
   "execution_count": null,
   "metadata": {},
   "outputs": [],
   "source": [
    "S0101_data[list(set(S0101_data.columns).difference(set(('STATE', 'COUNTYFP', 'TRACTCE'))))] = \\\n",
    "S0101_data[list(set(S0101_data.columns).difference(set(('STATE', 'COUNTYFP', 'TRACTCE'))))].apply(pd.to_numeric)"
   ]
  },
  {
   "cell_type": "code",
   "execution_count": null,
   "metadata": {},
   "outputs": [],
   "source": [
    "S0101_data.head()"
   ]
  },
  {
   "cell_type": "code",
   "execution_count": null,
   "metadata": {},
   "outputs": [],
   "source": [
    "S0101_data.shape"
   ]
  },
  {
   "cell_type": "code",
   "execution_count": null,
   "metadata": {},
   "outputs": [],
   "source": [
    "def merge_columns_by_add(df, target, columns):\n",
    "    df = df.copy()\n",
    "    highest_index = int(target[-3:-1])   \n",
    "    target_ser = df[target].copy()\n",
    "    columns.pop(columns.index(target))\n",
    "    \n",
    "    for i in columns:\n",
    "        \n",
    "        if int(i[-3:-1]) > highest_index:\n",
    "            \n",
    "            highest_index = int(i[-3:-1])\n",
    "        target_ser += df[i]\n",
    "        \n",
    "    df[target] = target_ser\n",
    "    new_col_name = target[:-1] + '_' + str(highest_index) + 'E'\n",
    "    df.drop(columns=columns, inplace=True)\n",
    "    df.rename(columns={target:new_col_name}, inplace=True)\n",
    "    return df        "
   ]
  },
  {
   "cell_type": "code",
   "execution_count": null,
   "metadata": {},
   "outputs": [],
   "source": [
    "new = merge_columns_by_add(S0101_data, 'S0101_C01_007E', ['S0101_C01_007E', 'S0101_C01_008E'])"
   ]
  },
  {
   "cell_type": "code",
   "execution_count": null,
   "metadata": {},
   "outputs": [],
   "source": [
    "new.S0101_C01_007_8E.equals(checker_series.apply(pd.to_numeric).sum(axis=1))"
   ]
  },
  {
   "cell_type": "code",
   "execution_count": null,
   "metadata": {},
   "outputs": [],
   "source": []
  }
 ],
 "metadata": {
  "kernelspec": {
   "display_name": "Python [conda env:LoopDashboard]",
   "language": "python",
   "name": "conda-env-LoopDashboard-py"
  },
  "language_info": {
   "codemirror_mode": {
    "name": "ipython",
    "version": 3
   },
   "file_extension": ".py",
   "mimetype": "text/x-python",
   "name": "python",
   "nbconvert_exporter": "python",
   "pygments_lexer": "ipython3",
   "version": "3.9.1"
  }
 },
 "nbformat": 4,
 "nbformat_minor": 4
}
